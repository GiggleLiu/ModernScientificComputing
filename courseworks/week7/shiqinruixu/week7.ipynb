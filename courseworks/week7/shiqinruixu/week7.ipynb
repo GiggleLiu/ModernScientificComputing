{
 "cells": [
  {
   "attachments": {},
   "cell_type": "markdown",
   "metadata": {},
   "source": [
    "### Answer from ChatGPT\n",
    "A unit-disk embedding of a graph is a way of drawing the graph in the plane such that each vertex is represented by a disk of unit radius and two disks intersect if and only if their corresponding vertices are adjacent in the graph. In other words, it is a way of embedding the graph in the plane such that the vertices are represented by non-overlapping disks of equal radius and the edges are represented by tangent segments between the disks. The concept of unit-disk embedding is important in the study of geometric graph theory and has applications in wireless network design, sensor networks, and other areas."
   ]
  },
  {
   "cell_type": "code",
   "execution_count": 1,
   "metadata": {},
   "outputs": [
    {
     "data": {
      "text/plain": [
       "21-element Vector{Tuple{Int64, Int64}}:\n",
       " (1, 2)\n",
       " (1, 3)\n",
       " (2, 3)\n",
       " (2, 4)\n",
       " (2, 5)\n",
       " (2, 6)\n",
       " (3, 5)\n",
       " (3, 6)\n",
       " (3, 7)\n",
       " (4, 5)\n",
       " ⋮\n",
       " (5, 8)\n",
       " (5, 9)\n",
       " (6, 7)\n",
       " (6, 8)\n",
       " (6, 9)\n",
       " (7, 9)\n",
       " (8, 9)\n",
       " (8, 10)\n",
       " (9, 10)"
      ]
     },
     "metadata": {},
     "output_type": "display_data"
    }
   ],
   "source": [
    "using Graphs, Plots, GraphRecipes, Optim, Optimisers, Random, ForwardDiff, Combinatorics\n",
    "\n",
    "global E = [(1, 2), (1, 3),\n",
    "\t(2, 3), (2, 4), (2, 5), (2, 6),\n",
    "\t(3, 5), (3, 6), (3, 7),\n",
    "\t(4, 5), (4, 8),\n",
    "\t(5, 6), (5, 8), (5, 9),\n",
    "\t(6, 7), (6, 8), (6, 9),\n",
    "\t(7,9), (8, 9), (8, 10), (9, 10)]"
   ]
  },
  {
   "cell_type": "code",
   "execution_count": 2,
   "metadata": {},
   "outputs": [
    {
     "data": {
      "text/plain": [
       "{10, 21} undirected simple Int64 graph"
      ]
     },
     "metadata": {},
     "output_type": "display_data"
    }
   ],
   "source": [
    "edges = Edge.(E)\n",
    "\n",
    "# create a graph from the vertex and edge lists above\n",
    "g = SimpleGraphFromIterator(edges)"
   ]
  },
  {
   "cell_type": "code",
   "execution_count": 3,
   "metadata": {},
   "outputs": [
    {
     "data": {
      "text/plain": [
       "dist (generic function with 1 method)"
      ]
     },
     "metadata": {},
     "output_type": "display_data"
    }
   ],
   "source": [
    "function dist(a::AbstractVector{T},b::AbstractVector{T}) where T\n",
    "    return sqrt((a[1]-b[1])^2 + (a[2]-b[2])^2)\n",
    "end"
   ]
  },
  {
   "cell_type": "code",
   "execution_count": 4,
   "metadata": {},
   "outputs": [
    {
     "data": {
      "text/plain": [
       "loss_f (generic function with 1 method)"
      ]
     },
     "metadata": {},
     "output_type": "display_data"
    }
   ],
   "source": [
    "function loss_f(x::AbstractMatrix)\n",
    "    loss = 0.0\n",
    "    for (a,b) in combinations(1:10,2)\n",
    "\t\tif (a,b) in E\n",
    "\t\t\tprop_dist = dist(x[:,a],x[:,b])\n",
    "\t\telse\n",
    "\t\t\tprop_dist = 1/dist(x[:,a],x[:,b])\n",
    "\t\tend\n",
    "\n",
    "\t\tif prop_dist > 0.999\n",
    "\t\t\tloss  +=  prop_dist\n",
    "\t\tend\n",
    "\n",
    "    end\n",
    "    return loss\n",
    "end"
   ]
  },
  {
   "cell_type": "code",
   "execution_count": 5,
   "metadata": {},
   "outputs": [
    {
     "data": {
      "text/plain": [
       "isunitdisk (generic function with 1 method)"
      ]
     },
     "metadata": {},
     "output_type": "display_data"
    }
   ],
   "source": [
    "function isunitdisk(x::AbstractMatrix{T}) where T\n",
    "\tfor (a,b) in combinations(1:10,2)\n",
    "\t\tif(a,b) in E\n",
    "\t\t\t@assert dist(x[:,a],x[:,b]) <= 1.0 \"Error, got $x[:,a] and $x[:,b] with distance $(dist(x[:,a],x[:,b]))\"\n",
    "\t\telse\n",
    "\t\t\t@assert dist(x[:,a], x[:,b]) > 1.0 \"Error, non connected points $a and $b are too close, got distance $(dist(x[:,a],x[:,b]))\"\n",
    "\t\tend\n",
    "\tend\n",
    "\tprintln(\"Test passed\")\n",
    "end"
   ]
  },
  {
   "cell_type": "code",
   "execution_count": 6,
   "metadata": {},
   "outputs": [
    {
     "name": "stdout",
     "output_type": "stream",
     "text": [
      "Test passed\n"
     ]
    },
    {
     "name": "stderr",
     "output_type": "stream",
     "text": [
      "┌ Info: 0.0\n",
      "└ @ Main /home/divingwhale/documents/Julia/ModernScientificComputing/courseworks/week7/shiqinruixu/week7.ipynb:7\n",
      "┌ Info: [48.95664565706372 48.57979829466359 48.108230512019496 48.76713531110493 48.42172412113497 47.75871658288185 47.36435638828799 48.00441950395791 47.642391753552445 47.4424499286042; 73.48322865053181 74.24220092350585 73.97201869189136 75.1350255158153 74.83281644924801 74.58652878691547 74.4023978286742 75.3450545616642 75.0173685938166 75.89385376500006]\n",
      "└ @ Main /home/divingwhale/documents/Julia/ModernScientificComputing/courseworks/week7/shiqinruixu/week7.ipynb:8\n"
     ]
    },
    {
     "name": "stdout",
     "output_type": "stream",
     "text": [
      "[1.5922892687757297 0.0]\n",
      "[1.2154419063756023 0.7589722729740345]\n",
      "[0.7438741237315085 0.4887900413595503]\n",
      "[1.4027789228169425 1.6517968652834867]\n",
      "[1.0573677328469842 1.3495877987162004]\n",
      "[0.3943601945938653 1.1033001363836519]\n",
      "[0.0 0.9191691781423827]\n",
      "[0.6400631156699248 1.8618259111323852]\n",
      "[0.2780353652644578 1.534139943284785]\n",
      "[0.07809354031621041 2.410625114468246]\n"
     ]
    }
   ],
   "source": [
    "task_success = false\n",
    "for _ in 1:100\n",
    "\t#initialize so that points start without getting too close to any\n",
    "\tx0 =  float.(vcat(shuffle(1:100)[1:10]',shuffle(1:100)[1:10]'))\n",
    "\this = optimize(loss_f,x0,NelderMead())\n",
    "\tif  minimum(his) == 0.0\n",
    "\t\t@info minimum(his)\n",
    "\t\t@info Optim.minimizer(his)\n",
    "\t\tans = Optim.minimizer(his)\n",
    "\t\tisunitdisk(ans)\n",
    "\t\ttask_success = true\n",
    "\t\tminx = min(ans[1,:]...)\n",
    "\t\tminy = min(ans[2,:]...)\n",
    "\t\tfor coord in eachcol(ans)\n",
    "\t\t\tprintln(coord' .- [minx miny])\n",
    "\t\tend\n",
    "\t\tbreak\n",
    "\tend\n",
    "end\n",
    "if !task_success\n",
    "\tprintln(\"Did not get correct answer in 100 random initial points, retry\")\n",
    "end"
   ]
  },
  {
   "attachments": {},
   "cell_type": "markdown",
   "metadata": {},
   "source": [
    "### Credits to Yusheng Zhao"
   ]
  }
 ],
 "metadata": {
  "kernelspec": {
   "display_name": "Julia 1.8.3",
   "language": "julia",
   "name": "julia-1.8"
  },
  "language_info": {
   "file_extension": ".jl",
   "mimetype": "application/julia",
   "name": "julia",
   "version": "1.8.3"
  },
  "orig_nbformat": 4
 },
 "nbformat": 4,
 "nbformat_minor": 2
}
