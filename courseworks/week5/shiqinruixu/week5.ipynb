{
 "cells": [
  {
   "attachments": {},
   "cell_type": "markdown",
   "metadata": {},
   "source": [
    "### Q1\n",
    "The matrix should be:\n",
    "$$\n",
    "\\begin{bmatrix}\n",
    "0 & 0.942 & 0.848 & 0 & 0\\\\\n",
    "0 & 0 & 0 & 0 & 0\\\\\n",
    "0.799 & 0 & 0 & 0 & 0\\\\\n",
    "0 & 0 & 0.164 & 0 & 0\\\\\n",
    "0 & 0 & 0 & 0.637 & 0\\\\\n",
    "\\end{bmatrix}\n",
    "$$\n",
    "So `rowindices` should be `[3; 1; 1; 4; 5]`, the `colindices` should be `[1; 2; 3; 3; 4]`, and the `data` should be `[0.799; 0.942; 0.848; 0.164; 0.637]`."
   ]
  },
  {
   "attachments": {},
   "cell_type": "markdown",
   "metadata": {},
   "source": [
    "### Q2"
   ]
  },
  {
   "cell_type": "code",
   "execution_count": 1,
   "metadata": {},
   "outputs": [
    {
     "name": "stdout",
     "output_type": "stream",
     "text": [
      "\u001b[0m\u001b[1mTest Summary:                         | \u001b[22m\u001b[32m\u001b[1mPass  \u001b[22m\u001b[39m\u001b[36m\u001b[1mTotal  \u001b[22m\u001b[39m\u001b[0m\u001b[1mTime\u001b[22m\n",
      "sparse matrix - vector multiplication | \u001b[32m 100  \u001b[39m\u001b[36m  100  \u001b[39m\u001b[0m0.6s\n"
     ]
    },
    {
     "data": {
      "text/plain": [
       "Test.DefaultTestSet(\"sparse matrix - vector multiplication\", Any[], 100, false, false, true, 1.683602858592219e9, 1.683602859236367e9)"
      ]
     },
     "metadata": {},
     "output_type": "display_data"
    }
   ],
   "source": [
    "using SparseArrays, Test\n",
    "\n",
    "function my_spv(sp::SparseMatrixCSC{T1},v::AbstractVector{T2}) where {T1,T2}\n",
    "\tT = promote_type(T1,T2)\n",
    "\t@assert size(sp,2) == size(v,1)\n",
    "\trowval, colval, nzval = Int[], Int[], T[]\n",
    "\t@inbounds for j in 1:size(sp,2)\n",
    "\t\t@inbounds for i in nzrange(sp,j)\n",
    "\t\t\tpush!(rowval,sp.rowval[i])\n",
    "\t\t\tpush!(colval,1)\n",
    "\t\t\tpush!(nzval,sp.nzval[i]*v[j])\n",
    "\t\tend\n",
    "\tend\n",
    "\treturn sparse(rowval,colval,nzval,size(sp,1),size(v,2))\n",
    "end\n",
    "\n",
    "@testset \"sparse matrix - vector multiplication\" begin\n",
    "\tfor k = 1:100\n",
    "\t\tm, n = rand(1:100, 2)\n",
    "\t\tdensity = rand()\n",
    "\t\tsp = sprand(m, n, density)\n",
    "\t\tv = randn(n)\n",
    "        @test Matrix(sp) * v ≈ my_spv(sp, v)\n",
    "\tend\n",
    "end"
   ]
  },
  {
   "attachments": {},
   "cell_type": "markdown",
   "metadata": {},
   "source": [
    "#### Credits to Yusheng Zhao"
   ]
  }
 ],
 "metadata": {
  "kernelspec": {
   "display_name": "Julia 1.8.3",
   "language": "julia",
   "name": "julia-1.8"
  },
  "language_info": {
   "file_extension": ".jl",
   "mimetype": "application/julia",
   "name": "julia",
   "version": "1.8.3"
  },
  "orig_nbformat": 4
 },
 "nbformat": 4,
 "nbformat_minor": 2
}
