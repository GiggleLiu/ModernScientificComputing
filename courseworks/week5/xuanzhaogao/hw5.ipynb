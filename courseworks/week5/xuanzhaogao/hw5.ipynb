{
 "cells": [
  {
   "attachments": {},
   "cell_type": "markdown",
   "metadata": {},
   "source": [
    "# Q1\n",
    "\n",
    "The data is given as below"
   ]
  },
  {
   "cell_type": "code",
   "execution_count": 2,
   "metadata": {},
   "outputs": [
    {
     "data": {
      "text/plain": [
       "5×5 SparseMatrixCSC{Float64, Int64} with 5 stored entries:\n",
       "  ⋅     0.942  0.848   ⋅      ⋅ \n",
       "  ⋅      ⋅      ⋅      ⋅      ⋅ \n",
       " 0.799   ⋅      ⋅      ⋅      ⋅ \n",
       "  ⋅      ⋅     0.164   ⋅      ⋅ \n",
       "  ⋅      ⋅      ⋅     0.637   ⋅ "
      ]
     },
     "execution_count": 2,
     "metadata": {},
     "output_type": "execute_result"
    }
   ],
   "source": [
    "using SparseArrays\n",
    "\n",
    "m = 5\n",
    "n = 5\n",
    "rowindices = [3, 1, 1, 4, 5]\n",
    "colindices = [1, 2, 3, 3, 4]\n",
    "data = [0.799, 0.942, 0.848, 0.164, 0.637]\n",
    "\n",
    "sp = sparse(rowindices, colindices, data, m, n)"
   ]
  },
  {
   "cell_type": "code",
   "execution_count": 3,
   "metadata": {},
   "outputs": [
    {
     "name": "stdout",
     "output_type": "stream",
     "text": [
      "[1, 2, 3, 5, 6, 6]\n",
      "[3, 1, 1, 4, 5]\n",
      "[0.799, 0.942, 0.848, 0.164, 0.637]\n"
     ]
    }
   ],
   "source": [
    "println(sp.colptr)\n",
    "println(sp.rowval)\n",
    "println(sp.nzval)"
   ]
  },
  {
   "attachments": {},
   "cell_type": "markdown",
   "metadata": {},
   "source": [
    "# Q2(1)"
   ]
  },
  {
   "cell_type": "code",
   "execution_count": 4,
   "metadata": {},
   "outputs": [
    {
     "data": {
      "text/plain": [
       "my_spv (generic function with 1 method)"
      ]
     },
     "execution_count": 4,
     "metadata": {},
     "output_type": "execute_result"
    }
   ],
   "source": [
    "function my_spv(sp, v)\n",
    "    @assert sp.n == size(v, 1)\n",
    "    n = sp.n\n",
    "    m = sp.m\n",
    "    spv = zeros(Float64, m)\n",
    "    sp_val = sp.nzval\n",
    "    sp_row = sp.rowval\n",
    "    for i in 1:n\n",
    "        for j in nzrange(sp, i)\n",
    "            k = sp_row[j]\n",
    "            spv[k] += sp_val[j] * v[i]\n",
    "        end\n",
    "    end\n",
    "    return spv\n",
    "end"
   ]
  },
  {
   "cell_type": "code",
   "execution_count": 5,
   "metadata": {},
   "outputs": [
    {
     "name": "stdout",
     "output_type": "stream",
     "text": [
      "\u001b[0m\u001b[1mTest Summary:                         | \u001b[22m\u001b[32m\u001b[1mPass  \u001b[22m\u001b[39m\u001b[36m\u001b[1mTotal  \u001b[22m\u001b[39m\u001b[0m\u001b[1mTime\u001b[22m\n",
      "sparse matrix - vector multiplication | \u001b[32m 100  \u001b[39m\u001b[36m  100  \u001b[39m\u001b[0m0.5s\n"
     ]
    },
    {
     "data": {
      "text/plain": [
       "Test.DefaultTestSet(\"sparse matrix - vector multiplication\", Any[], 100, false, false, true, 1.679150306473528e9, 1.679150306969063e9)"
      ]
     },
     "execution_count": 5,
     "metadata": {},
     "output_type": "execute_result"
    }
   ],
   "source": [
    "using SparseArrays, Test\n",
    "\n",
    "@testset \"sparse matrix - vector multiplication\" begin\n",
    "\tfor k = 1:100\n",
    "\t\tm, n = rand(1:100, 2)\n",
    "\t\tdensity = rand()\n",
    "\t\tsp = sprand(m, n, density)\n",
    "\t\tv = randn(n)\n",
    "        @test Matrix(sp) * v ≈ my_spv(sp, v)\n",
    "\tend\n",
    "end"
   ]
  },
  {
   "attachments": {},
   "cell_type": "markdown",
   "metadata": {},
   "source": [
    "# Q2(2)"
   ]
  },
  {
   "cell_type": "code",
   "execution_count": 32,
   "metadata": {},
   "outputs": [
    {
     "data": {
      "text/plain": [
       "lanczos (generic function with 1 method)"
      ]
     },
     "execution_count": 32,
     "metadata": {},
     "output_type": "execute_result"
    }
   ],
   "source": [
    "# here I use code in class for lanczos process\n",
    "function lanczos(A, q1::AbstractVector{T}; abstol, maxiter) where T\n",
    "\t# normalize the input vector\n",
    "\tq1 = normalize(q1)\n",
    "\t# the first iteration\n",
    "\tq = [q1]\n",
    "\tAq1 = A * q1\n",
    "\tα = [q1' * Aq1]\n",
    "\trk = Aq1 .- α[1] .* q1\n",
    "\tβ = [norm(rk)]\n",
    "\tfor k = 2:min(length(q1), maxiter)\n",
    "\t\t# the k-th orthonormal vector in Q\n",
    "\t\tpush!(q, rk ./ β[k-1])\n",
    "\t\tAqk = A * q[k]\n",
    "\t\t# compute the diagonal element as αₖ = qₖᵀ A qₖ\n",
    "\t\tpush!(α, q[k]' * Aqk)\n",
    "\t\trk = Aqk .- α[k] .* q[k] .- β[k-1] * q[k-1]\n",
    "\t\t# compute the off-diagonal element as βₖ = |rₖ|\n",
    "\t\tnrk = norm(rk)\n",
    "\t\t# break if βₖ is smaller than abstol or the maximum number of iteration is reached\n",
    "\t\tif abs(nrk) < abstol || k == length(q1)\n",
    "\t\t\tbreak\n",
    "\t\tend\n",
    "\t\tpush!(β, nrk)\n",
    "\tend\n",
    "\t# returns T and Q\n",
    "\treturn SymTridiagonal(α, β), cat(q1, q[2:end]...; dims=2)\n",
    "end"
   ]
  },
  {
   "cell_type": "code",
   "execution_count": 38,
   "metadata": {},
   "outputs": [
    {
     "data": {
      "text/plain": [
       "restarting (generic function with 1 method)"
      ]
     },
     "execution_count": 38,
     "metadata": {},
     "output_type": "execute_result"
    }
   ],
   "source": [
    "using LinearAlgebra\n",
    "\n",
    "function restarting(T, Q)\n",
    "    eigen_T = eigen(T)\n",
    "    eigen_val = eigen_T.values\n",
    "    eigen_vec = eigen_T.vectors\n",
    "    \n",
    "    λ = eigen_val[end]\n",
    "    u_1 = eigen_vec[:, end]\n",
    "    q_1 = Q * u_1\n",
    "    return λ, q_1\n",
    "end"
   ]
  },
  {
   "cell_type": "code",
   "execution_count": 39,
   "metadata": {},
   "outputs": [
    {
     "data": {
      "text/plain": [
       "lanczos_restarting (generic function with 1 method)"
      ]
     },
     "execution_count": 39,
     "metadata": {},
     "output_type": "execute_result"
    }
   ],
   "source": [
    "function lanczos_restarting(A, q_1, abstol, maxiter, error_cut, maxiter_re)\n",
    "    # first iteration\n",
    "    T, Q = lanczos(A, q_1; abstol, maxiter)\n",
    "    λ, q_1 = restarting(T, Q)\n",
    "\n",
    "    λ_pre = λ\n",
    "    turns = 1\n",
    "    error = 1 + error_cut\n",
    "\n",
    "    while abs(error) > error && maxiter_re < turns\n",
    "        T, Q = lanczos(A, q_1; abstol, maxiter)\n",
    "        λ, q_1 = restarting(T, Q)\n",
    "\n",
    "        error = λ_pre - λ\n",
    "        λ_pre = λ\n",
    "        turns += 1\n",
    "    end\n",
    "    return λ, q_1\n",
    "end"
   ]
  },
  {
   "cell_type": "code",
   "execution_count": 40,
   "metadata": {},
   "outputs": [
    {
     "name": "stdout",
     "output_type": "stream",
     "text": [
      "\u001b[0m\u001b[1mTest Summary:           | \u001b[22m\u001b[32m\u001b[1mPass  \u001b[22m\u001b[39m\u001b[36m\u001b[1mTotal  \u001b[22m\u001b[39m\u001b[0m\u001b[1mTime\u001b[22m\n",
      "lanczos_restarting test | \u001b[32m 100  \u001b[39m\u001b[36m  100  \u001b[39m\u001b[0m0.1s\n"
     ]
    },
    {
     "data": {
      "text/plain": [
       "Test.DefaultTestSet(\"lanczos_restarting test\", Any[], 100, false, false, true, 1.679151172858877e9, 1.67915117294241e9)"
      ]
     },
     "execution_count": 40,
     "metadata": {},
     "output_type": "execute_result"
    }
   ],
   "source": [
    "@testset \"lanczos_restarting test\" begin\n",
    "\tfor k = 1:100\n",
    "\t\tn = rand(1:100)\n",
    "\t\tabstol = 1e-10\n",
    "\t\tmaxiter = n\n",
    "\t\terror_cut = 1e-10\n",
    "\t\tmaxiter_re = n\n",
    "\n",
    "\t\tA = rand(Float64, (n, n))\n",
    "\t\tA = Symmetric(A)\n",
    "\t\tq_1 = rand(Float64, n)\n",
    "\t\tλ, q_1_norm = lanczos_restarting(A, q_1, abstol, maxiter, error_cut, maxiter_re)\n",
    "        @test abs(eigvals(A)[end] - λ) < abstol\n",
    "\tend\n",
    "end"
   ]
  },
  {
   "cell_type": "code",
   "execution_count": null,
   "metadata": {},
   "outputs": [],
   "source": []
  }
 ],
 "metadata": {
  "kernelspec": {
   "display_name": "Julia 1.8.2",
   "language": "julia",
   "name": "julia-1.8"
  },
  "language_info": {
   "file_extension": ".jl",
   "mimetype": "application/julia",
   "name": "julia",
   "version": "1.8.2"
  },
  "orig_nbformat": 4
 },
 "nbformat": 4,
 "nbformat_minor": 2
}
