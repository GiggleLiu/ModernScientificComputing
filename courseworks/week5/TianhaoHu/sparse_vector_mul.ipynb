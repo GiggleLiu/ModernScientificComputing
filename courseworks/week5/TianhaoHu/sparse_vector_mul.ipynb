{
 "cells": [
  {
   "cell_type": "code",
   "execution_count": 2,
   "metadata": {},
   "outputs": [],
   "source": [
    "using LinearAlgebra, SparseArrays"
   ]
  },
  {
   "cell_type": "code",
   "execution_count": 3,
   "metadata": {},
   "outputs": [
    {
     "data": {
      "text/plain": [
       "my_spv (generic function with 1 method)"
      ]
     },
     "metadata": {},
     "output_type": "display_data"
    }
   ],
   "source": [
    "function my_spv(A::SparseMatrixCSC{T1},b::Vector{T2}) where {T1,T2}\n",
    "\tT = promote_type(T1, T2)\n",
    "\t@assert size(A, 2) == size(b, 1)\n",
    "\trowval, colval, nzval = Int[], Int[], T[]\n",
    "\tfor k2 in  1:size(b, 1)\n",
    "\t\tv2 = b[k2,1]\n",
    "\t\tfor k1 in nzrange(A,k2)\n",
    "\t\t\tpush!(rowval,A.rowval[k1])\n",
    "\t\t\tpush!(colval,1)\n",
    "\t\t\tpush!(nzval,A.nzval[k1]*v2)\n",
    "\t\tend\n",
    "\tend\n",
    "\treturn sparse(rowval, colval, nzval, size(A, 1), size(b, 2))\n",
    "end"
   ]
  },
  {
   "cell_type": "code",
   "execution_count": 4,
   "metadata": {},
   "outputs": [
    {
     "name": "stdout",
     "output_type": "stream",
     "text": [
      "\u001b[0m\u001b[1mTest Summary:                         | \u001b[22m\u001b[32m\u001b[1mPass  \u001b[22m\u001b[39m\u001b[36m\u001b[1mTotal  \u001b[22m\u001b[39m\u001b[0m\u001b[1mTime\u001b[22m\n",
      "sparse matrix - vector multiplication | \u001b[32m 100  \u001b[39m\u001b[36m  100  \u001b[39m\u001b[0m1.0s\n"
     ]
    },
    {
     "data": {
      "text/plain": [
       "Test.DefaultTestSet(\"sparse matrix - vector multiplication\", Any[], 100, false, false, true, 1.679398026410067e9, 1.679398027422244e9, false)"
      ]
     },
     "metadata": {},
     "output_type": "display_data"
    }
   ],
   "source": [
    "using Test\n",
    "\t\n",
    "@testset \"sparse matrix - vector multiplication\" begin\n",
    "    for k = 1:100\n",
    "        m, n = rand(1:100, 2)\n",
    "        density = rand()\n",
    "        sp = sprand(m, n, density)\n",
    "        v = randn(n)\n",
    "        @test Matrix(sp) * v ≈ my_spv(sp, v)\n",
    "    end\n",
    "end"
   ]
  }
 ],
 "metadata": {
  "kernelspec": {
   "display_name": "Julia 1.9.0-rc1",
   "language": "julia",
   "name": "julia-1.9"
  },
  "language_info": {
   "file_extension": ".jl",
   "mimetype": "application/julia",
   "name": "julia",
   "version": "1.9.0-rc1"
  },
  "orig_nbformat": 4
 },
 "nbformat": 4,
 "nbformat_minor": 2
}
