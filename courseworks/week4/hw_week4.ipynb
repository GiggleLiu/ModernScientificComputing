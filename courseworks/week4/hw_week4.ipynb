{
 "cells": [
  {
   "cell_type": "code",
   "execution_count": 1,
   "metadata": {},
   "outputs": [],
   "source": [
    "using LinearAlgebra\n",
    "using Test"
   ]
  },
  {
   "cell_type": "code",
   "execution_count": 2,
   "metadata": {},
   "outputs": [],
   "source": [
    "struct GivensMatrix{T} <: AbstractArray{T, 2}\n",
    "\tc::T\n",
    "\ts::T\n",
    "\ti::Int\n",
    "\tj::Int\n",
    "\tn::Int\n",
    "end"
   ]
  },
  {
   "cell_type": "code",
   "execution_count": 3,
   "metadata": {},
   "outputs": [],
   "source": [
    "Base.size(g::GivensMatrix) = (g.n, g.n)\n",
    "# Base.size(g::GivensMatrix, i::Int) = i == 1 || i == 2 ? g.n : 1"
   ]
  },
  {
   "cell_type": "code",
   "execution_count": 4,
   "metadata": {},
   "outputs": [
    {
     "data": {
      "text/plain": [
       "givens (generic function with 1 method)"
      ]
     },
     "metadata": {},
     "output_type": "display_data"
    }
   ],
   "source": [
    "function givens(A, i, j)\n",
    "\tx, y = A[i, 1], A[j, 1]\n",
    "\tnorm = sqrt(x^2 + y^2)\n",
    "\tc = x/norm\n",
    "\ts = y/norm\n",
    "\treturn GivensMatrix(c, s, i, j, size(A, 1))\n",
    "end"
   ]
  },
  {
   "cell_type": "code",
   "execution_count": 5,
   "metadata": {},
   "outputs": [
    {
     "data": {
      "text/plain": [
       "left_mul! (generic function with 1 method)"
      ]
     },
     "metadata": {},
     "output_type": "display_data"
    }
   ],
   "source": [
    "function left_mul!(A::AbstractMatrix, givens::GivensMatrix)\n",
    "\tfor col in 1:3 # size(A, 2) \n",
    "\t\tvi, vj = A[givens.i, col], A[givens.j, col]\n",
    "\t\tA[givens.i, col] = vi * givens.c + vj * givens.s\n",
    "\t\tA[givens.j, col] = -vi * givens.s + vj * givens.c\n",
    "\t\t# println(A)\n",
    "\t\t# println(1)\n",
    "\tend\n",
    "\treturn A\n",
    "end"
   ]
  },
  {
   "cell_type": "code",
   "execution_count": 6,
   "metadata": {},
   "outputs": [
    {
     "data": {
      "text/plain": [
       "right_mul! (generic function with 1 method)"
      ]
     },
     "metadata": {},
     "output_type": "display_data"
    }
   ],
   "source": [
    "function right_mul!(A::AbstractMatrix, givens::GivensMatrix)\n",
    "\tfor row in 1:size(A, 1)   # size(A, 1)\n",
    "\t\tvi, vj = A[row, givens.i], A[row, givens.j]\n",
    "\t\tA[row, givens.i] = vi * givens.c + vj * givens.s\n",
    "\t\tA[row, givens.j] = -vi * givens.s + vj * givens.c\n",
    "\tend\n",
    "\treturn A\n",
    "end"
   ]
  },
  {
   "cell_type": "code",
   "execution_count": 7,
   "metadata": {},
   "outputs": [
    {
     "data": {
      "text/plain": [
       "left_mul!_2 (generic function with 1 method)"
      ]
     },
     "metadata": {},
     "output_type": "display_data"
    }
   ],
   "source": [
    "function left_mul!_2(A::AbstractMatrix, givens::GivensMatrix)\n",
    "\tfor col in 1:2\n",
    "\t\t#println(size(A, 1))\n",
    "\t\tvi, vj = A[givens.i, col], A[givens.j, col]\n",
    "\t\tA[givens.i, col] = vi * givens.c + vj * givens.s\n",
    "\t\tA[givens.j, col] = -vi * givens.s + vj * givens.c\n",
    "\t\t# println(A)\n",
    "\t\t# println(1)\n",
    "\tend\n",
    "\treturn A\n",
    "end"
   ]
  },
  {
   "cell_type": "code",
   "execution_count": 8,
   "metadata": {},
   "outputs": [
    {
     "data": {
      "text/plain": [
       "right_mul!_2 (generic function with 1 method)"
      ]
     },
     "metadata": {},
     "output_type": "display_data"
    }
   ],
   "source": [
    "function right_mul!_2(A::AbstractMatrix, givens::GivensMatrix)\n",
    "\tfor row in 1:size(A, 1)\n",
    "\t\t# println(size(A, 1))\n",
    "\t\tvi, vj = A[row, givens.i], A[row, givens.j]\n",
    "\t\tA[row, givens.i] = vi * givens.c + vj * givens.s\n",
    "\t\tA[row, givens.j] = -vi * givens.s + vj * givens.c\n",
    "\tend\n",
    "\treturn A\n",
    "end"
   ]
  },
  {
   "cell_type": "code",
   "execution_count": 9,
   "metadata": {},
   "outputs": [
    {
     "data": {
      "text/plain": [
       "givens_qr! (generic function with 1 method)"
      ]
     },
     "metadata": {},
     "output_type": "display_data"
    }
   ],
   "source": [
    "function givens_qr!(Q::AbstractMatrix, A::AbstractMatrix)\n",
    "\tm, n = size(A)\n",
    "\tif m == 1\n",
    "\t\treturn Q, A\n",
    "\telseif m == 2\n",
    "\t\tk=2\n",
    "\t\tg = givens(A, k-1, k)\n",
    "\t\tleft_mul!_2(A, g)\n",
    "\t\tright_mul!_2(Q, g)\n",
    "\t\tgivens_qr!(view(Q, :, 2:m), view(A, 2:m, 2:n))\n",
    "\t\treturn Q, A\n",
    "\telse\n",
    "\t\tfor k =  2:-1:2\n",
    "\t\t\tg = givens(A, k-1, k)\n",
    "\t\t\tleft_mul!(A, g)\n",
    "\t\t\tright_mul!(Q, g)\n",
    "\t\tend\n",
    "\t\tgivens_qr!(view(Q, :, 2:m), view(A, 2:m, 2:n))\n",
    "\t\treturn Q, A\n",
    "\tend\n",
    "end"
   ]
  },
  {
   "cell_type": "code",
   "execution_count": 10,
   "metadata": {},
   "outputs": [
    {
     "data": {
      "text/plain": [
       "6×6 Matrix{Float64}:\n",
       " 1.41421  1.41421  0.707107     0.0       0.0       0.0\n",
       " 0.0      1.0      1.0          1.0       0.0       0.0\n",
       " 0.0      0.0      1.22474      0.816497  0.816497  0.0\n",
       " 0.0      0.0      1.11022e-16  1.1547    1.1547    0.866025\n",
       " 0.0      0.0      0.0          0.0       1.0       1.0\n",
       " 0.0      0.0      0.0          0.0       0.0       0.5"
      ]
     },
     "metadata": {},
     "output_type": "display_data"
    }
   ],
   "source": [
    "n=6\n",
    "A = [1. 1. 0. 0. 0. 0.; 1. 1. 1. 0. 0. 0.; 0. 1. 1. 1. 0. 0. ; 0. 0. 1. 1. 1. 0. ; 0. 0. 0. 1. 1. 1. ;0. 0. 0. 0. 1. 1.  ]\n",
    "R = copy(A)\n",
    "Q,R = givens_qr!(Matrix{Float64}(I, n, n), R)\n",
    "R"
   ]
  }
 ],
 "metadata": {
  "kernelspec": {
   "display_name": "Julia 1.8.2",
   "language": "julia",
   "name": "julia-1.8"
  },
  "language_info": {
   "file_extension": ".jl",
   "mimetype": "application/julia",
   "name": "julia",
   "version": "1.8.2"
  },
  "orig_nbformat": 4
 },
 "nbformat": 4,
 "nbformat_minor": 2
}
