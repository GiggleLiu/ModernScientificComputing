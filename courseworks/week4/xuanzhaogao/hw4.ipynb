{
 "cells": [
  {
   "attachments": {},
   "cell_type": "markdown",
   "metadata": {},
   "source": [
    "# Question 1\n",
    "   1. four householder transformations are required.\n",
    "   2. the first column of $A$ after transformation will be $(2, 0, 0, 0)$.\n",
    "   3. the second transformation will not affect the first column of $A$.\n",
    "   4. $6$ times of Givens rotations would be required."
   ]
  },
  {
   "cell_type": "code",
   "execution_count": 1,
   "metadata": {},
   "outputs": [],
   "source": [
    "using LinearAlgebra"
   ]
  },
  {
   "cell_type": "code",
   "execution_count": 119,
   "metadata": {},
   "outputs": [
    {
     "data": {
      "text/plain": [
       "Givens_rotation (generic function with 1 method)"
      ]
     },
     "execution_count": 119,
     "metadata": {},
     "output_type": "execute_result"
    }
   ],
   "source": [
    "function Givens_rotation(A)\n",
    "    n = size(A, 1)\n",
    "    Q = Matrix{Float64}(I, n, n)\n",
    "    R = copy(A)\n",
    "    for i = 1:n - 1\n",
    "        t_ii = R[i, i]\n",
    "        t_ji = R[i + 1, i]\n",
    "\n",
    "        r = (t_ii^2 + t_ji^2)^.5\n",
    "        c = t_ii / r\n",
    "        s = t_ji / r\n",
    "\n",
    "\n",
    "        for j in i:n\n",
    "            A_1 = R[i, j]\n",
    "            A_2 = R[i + 1, j]\n",
    "            R[i, j] = c * A_1 + s * A_2\n",
    "            R[i + 1, j] = - s * A_1 + c * A_2\n",
    "        end\n",
    "        \n",
    "        for j in 1:n\n",
    "            Q_1 = Q[j, i]\n",
    "            Q_2 = Q[j, i + 1]\n",
    "            Q[j, i] = c * Q_1 + s * Q_2\n",
    "            Q[j, i + 1] = - s * Q_1 + c * Q_2\n",
    "        end\n",
    "    end\n",
    "\n",
    "    return Q, R\n",
    "end"
   ]
  },
  {
   "cell_type": "code",
   "execution_count": 120,
   "metadata": {},
   "outputs": [
    {
     "data": {
      "text/plain": [
       "rand_A (generic function with 2 methods)"
      ]
     },
     "execution_count": 120,
     "metadata": {},
     "output_type": "execute_result"
    }
   ],
   "source": [
    "using Random\n",
    "\n",
    "function rand_A(n)\n",
    "    A = rand(Float64, (n, n))\n",
    "\n",
    "    for i in 1 : n\n",
    "        for j in 1 : n\n",
    "            if abs(i - j) > 1\n",
    "                A[i, j] = 0\n",
    "            end\n",
    "        end\n",
    "    end\n",
    "\n",
    "    for i in 1:n\n",
    "        for j in 1 : n\n",
    "            A[i, j] = A[j, i]\n",
    "        end\n",
    "    end\n",
    "    return A\n",
    "end"
   ]
  },
  {
   "cell_type": "code",
   "execution_count": 121,
   "metadata": {},
   "outputs": [
    {
     "data": {
      "text/plain": [
       "10×10 Matrix{Float64}:\n",
       " 0.101271  0.408619  0.0       0.0       …  0.0       0.0        0.0\n",
       " 0.408619  0.448973  0.239752  0.0          0.0       0.0        0.0\n",
       " 0.0       0.239752  0.756264  0.938503     0.0       0.0        0.0\n",
       " 0.0       0.0       0.938503  0.896479     0.0       0.0        0.0\n",
       " 0.0       0.0       0.0       0.198633     0.0       0.0        0.0\n",
       " 0.0       0.0       0.0       0.0       …  0.0       0.0        0.0\n",
       " 0.0       0.0       0.0       0.0          0.265851  0.0        0.0\n",
       " 0.0       0.0       0.0       0.0          0.438073  0.020414   0.0\n",
       " 0.0       0.0       0.0       0.0          0.020414  0.0331526  0.384329\n",
       " 0.0       0.0       0.0       0.0          0.0       0.384329   0.0164052"
      ]
     },
     "execution_count": 121,
     "metadata": {},
     "output_type": "execute_result"
    }
   ],
   "source": [
    "A = rand_A(10)\n",
    "A\n",
    "# Q, R = Givens_rotation(A)"
   ]
  },
  {
   "cell_type": "code",
   "execution_count": 122,
   "metadata": {},
   "outputs": [
    {
     "data": {
      "text/plain": [
       "10×10 Matrix{Float64}:\n",
       " 0.101271  0.408619   4.06292e-17  …   5.56409e-19   1.31058e-17\n",
       " 0.408619  0.448973   0.239752         5.35542e-20  -1.03724e-18\n",
       " 0.0       0.239752   0.756264        -1.33388e-18  -1.52756e-17\n",
       " 0.0       0.0        0.938503         4.17801e-19   1.02529e-17\n",
       " 0.0       0.0       -9.72479e-17      8.888e-19     5.57617e-18\n",
       " 0.0       0.0        0.0          …  -1.14397e-18  -1.37601e-17\n",
       " 0.0       0.0        0.0              3.37296e-19   1.57286e-17\n",
       " 0.0       0.0        0.0              0.020414     -9.29004e-18\n",
       " 0.0       0.0        0.0              0.0331526     0.384329\n",
       " 0.0       0.0        0.0              0.384329      0.0164052"
      ]
     },
     "execution_count": 122,
     "metadata": {},
     "output_type": "execute_result"
    }
   ],
   "source": [
    "Q, R = Givens_rotation(A)\n",
    "Q*R"
   ]
  },
  {
   "cell_type": "code",
   "execution_count": 123,
   "metadata": {},
   "outputs": [
    {
     "data": {
      "text/plain": [
       "10×10 Matrix{Float64}:\n",
       " 0.101271  0.408619  0.0       0.0       …  0.0       0.0        0.0\n",
       " 0.408619  0.448973  0.239752  0.0          0.0       0.0        0.0\n",
       " 0.0       0.239752  0.756264  0.938503     0.0       0.0        0.0\n",
       " 0.0       0.0       0.938503  0.896479     0.0       0.0        0.0\n",
       " 0.0       0.0       0.0       0.198633     0.0       0.0        0.0\n",
       " 0.0       0.0       0.0       0.0       …  0.0       0.0        0.0\n",
       " 0.0       0.0       0.0       0.0          0.265851  0.0        0.0\n",
       " 0.0       0.0       0.0       0.0          0.438073  0.020414   0.0\n",
       " 0.0       0.0       0.0       0.0          0.020414  0.0331526  0.384329\n",
       " 0.0       0.0       0.0       0.0          0.0       0.384329   0.0164052"
      ]
     },
     "execution_count": 123,
     "metadata": {},
     "output_type": "execute_result"
    }
   ],
   "source": [
    "A"
   ]
  },
  {
   "cell_type": "code",
   "execution_count": 125,
   "metadata": {},
   "outputs": [
    {
     "name": "stdout",
     "output_type": "stream",
     "text": [
      "\u001b[0m\u001b[1mTest Summary:   | \u001b[22m\u001b[32m\u001b[1mPass  \u001b[22m\u001b[39m\u001b[36m\u001b[1mTotal  \u001b[22m\u001b[39m\u001b[0m\u001b[1mTime\u001b[22m\n",
      "Givens Rotation | \u001b[32m   1  \u001b[39m\u001b[36m    1  \u001b[39m\u001b[0m0.0s\n"
     ]
    },
    {
     "data": {
      "text/plain": [
       "Test.DefaultTestSet(\"Givens Rotation\", Any[], 1, false, false, true, 1.678644438415917e9, 1.678644438415992e9)"
      ]
     },
     "execution_count": 125,
     "metadata": {},
     "output_type": "execute_result"
    }
   ],
   "source": [
    "using Test\n",
    "\n",
    "@testset \"Givens Rotation\" begin\n",
    "\tn = 10\n",
    "\tA = rand_A(n)\n",
    "    Q, R = Givens_rotation(A)\n",
    "\t@test Q * R ≈ A\n",
    "end"
   ]
  },
  {
   "cell_type": "code",
   "execution_count": null,
   "metadata": {},
   "outputs": [],
   "source": []
  }
 ],
 "metadata": {
  "kernelspec": {
   "display_name": "Julia 1.8.2",
   "language": "julia",
   "name": "julia-1.8"
  },
  "language_info": {
   "file_extension": ".jl",
   "mimetype": "application/julia",
   "name": "julia",
   "version": "1.8.2"
  },
  "orig_nbformat": 4,
  "vscode": {
   "interpreter": {
    "hash": "9d459467eab24d775681e5db3feddb0dac977128a1c1978f51dad36f75c416d2"
   }
  }
 },
 "nbformat": 4,
 "nbformat_minor": 2
}
