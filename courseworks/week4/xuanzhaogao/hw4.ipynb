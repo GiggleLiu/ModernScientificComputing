{
 "cells": [
  {
   "attachments": {},
   "cell_type": "markdown",
   "metadata": {},
   "source": [
    "# Question 1\n",
    "   1. four householder transformations are required.\n",
    "   2. the first column of $A$ after transformation will be $(2, 0, 0, 0)$.\n",
    "   3. the second transformation will not affect the first column of $A$.\n",
    "   4. $6$ times of Givens rotations would be required."
   ]
  },
  {
   "cell_type": "code",
   "execution_count": 6,
   "metadata": {},
   "outputs": [],
   "source": [
    "using LinearAlgebra"
   ]
  },
  {
   "cell_type": "code",
   "execution_count": 48,
   "metadata": {},
   "outputs": [
    {
     "data": {
      "text/plain": [
       "Givens_rotation (generic function with 1 method)"
      ]
     },
     "execution_count": 48,
     "metadata": {},
     "output_type": "execute_result"
    }
   ],
   "source": [
    "function Givens_rotation(A)\n",
    "    n = size(A, 1)\n",
    "    Q = Matrix{eltype(A)}(I, n, n)\n",
    "    R = copy(A)\n",
    "    for i = 1:n - 1\n",
    "        t_ii = R[i, i]\n",
    "        t_ji = R[i + 1, i]\n",
    "\n",
    "        r = sqrt(t_ii^2 + t_ji^2)\n",
    "        c = t_ii / r\n",
    "        s = t_ji / r\n",
    "\n",
    "\n",
    "        for j in i: min(i+2, n)\n",
    "            A_1 = R[i, j]\n",
    "            A_2 = R[i + 1, j]\n",
    "            R[i, j] = c * A_1 + s * A_2\n",
    "            R[i + 1, j] = - s * A_1 + c * A_2\n",
    "        end\n",
    "        \n",
    "        for j in 1:min(i+2, n)\n",
    "            Q_1 = Q[j, i]\n",
    "            Q_2 = Q[j, i + 1]\n",
    "            Q[j, i] = c * Q_1 + s * Q_2\n",
    "            Q[j, i + 1] = - s * Q_1 + c * Q_2\n",
    "        end\n",
    "    end\n",
    "\n",
    "    return Q, R\n",
    "end"
   ]
  },
  {
   "cell_type": "code",
   "execution_count": 49,
   "metadata": {},
   "outputs": [
    {
     "data": {
      "text/plain": [
       "rand_A (generic function with 1 method)"
      ]
     },
     "execution_count": 49,
     "metadata": {},
     "output_type": "execute_result"
    }
   ],
   "source": [
    "using Random\n",
    "\n",
    "\n",
    "function rand_A(n)\n",
    "    A = Matrix(Tridiagonal(rand(n, n)))\n",
    "    return A\n",
    "end"
   ]
  },
  {
   "cell_type": "code",
   "execution_count": 50,
   "metadata": {},
   "outputs": [
    {
     "data": {
      "text/plain": [
       "10×10 Matrix{Float64}:\n",
       " 0.302637  0.375119  0.0        0.0       …  0.0        0.0       0.0\n",
       " 0.480561  0.550483  0.0898811  0.0          0.0        0.0       0.0\n",
       " 0.0       0.71608   0.939037   0.32805      0.0        0.0       0.0\n",
       " 0.0       0.0       0.45988    0.292325     0.0        0.0       0.0\n",
       " 0.0       0.0       0.0        0.800111     0.0        0.0       0.0\n",
       " 0.0       0.0       0.0        0.0       …  0.0        0.0       0.0\n",
       " 0.0       0.0       0.0        0.0          0.320429   0.0       0.0\n",
       " 0.0       0.0       0.0        0.0          0.0357841  0.550835  0.0\n",
       " 0.0       0.0       0.0        0.0          0.722044   0.717804  0.895709\n",
       " 0.0       0.0       0.0        0.0          0.0        0.648246  0.803675"
      ]
     },
     "execution_count": 50,
     "metadata": {},
     "output_type": "execute_result"
    }
   ],
   "source": [
    "A = rand_A(10)\n",
    "A\n",
    "# Q, R = Givens_rotation(A)"
   ]
  },
  {
   "cell_type": "code",
   "execution_count": 51,
   "metadata": {},
   "outputs": [
    {
     "data": {
      "text/plain": [
       "10×10 Matrix{Float64}:\n",
       " 0.302637  0.375119     4.06189e-18  …  -4.2821e-18   -1.00049e-17\n",
       " 0.480561  0.550483     0.0898811        3.66832e-18   1.05417e-18\n",
       " 0.0       0.71608      0.939037         3.15909e-19   4.58004e-19\n",
       " 0.0       3.41884e-18  0.45988         -8.78408e-19  -1.32475e-18\n",
       " 0.0       0.0          0.0              4.20845e-19   1.06665e-19\n",
       " 0.0       0.0          0.0          …   3.89068e-18   2.8674e-18\n",
       " 0.0       0.0          0.0             -3.07333e-19  -6.79521e-19\n",
       " 0.0       0.0          0.0              0.550835     -6.92609e-19\n",
       " 0.0       0.0          0.0              0.717804      0.895709\n",
       " 0.0       0.0          0.0              0.648246      0.803675"
      ]
     },
     "execution_count": 51,
     "metadata": {},
     "output_type": "execute_result"
    }
   ],
   "source": [
    "Q, R = Givens_rotation(A)\n",
    "Q*R"
   ]
  },
  {
   "cell_type": "code",
   "execution_count": 55,
   "metadata": {},
   "outputs": [
    {
     "data": {
      "text/plain": [
       "10×10 Matrix{Float64}:\n",
       " 0.532891   0.0284303  -0.14392      0.0404547   …   0.0158793    -0.767721\n",
       " 0.846184  -0.0179042   0.0906349   -0.0254767      -0.0100001     0.483478\n",
       " 0.0        0.999435    0.00571768  -0.00160719     -0.000630853   0.0305001\n",
       " 0.0        0.0         0.985413     0.00826102      0.00324262   -0.156772\n",
       " 0.0        0.0         0.0          0.998821       -0.000926054   0.0447722\n",
       " 0.0        0.0         0.0          0.0         …  -0.00746637    0.360979\n",
       " 0.0        0.0         0.0          0.0             0.00198026   -0.0957401\n",
       " 0.0        0.0         0.0          0.0             0.00176236   -0.0852053\n",
       " 0.0        0.0         0.0          0.0            -0.000966141   0.0467103\n",
       " 0.0        0.0         0.0          0.0             0.999786      0.0206793"
      ]
     },
     "execution_count": 55,
     "metadata": {},
     "output_type": "execute_result"
    }
   ],
   "source": [
    "Q"
   ]
  },
  {
   "cell_type": "code",
   "execution_count": 54,
   "metadata": {},
   "outputs": [
    {
     "name": "stdout",
     "output_type": "stream",
     "text": [
      "\u001b[0m\u001b[1mTest Summary:   | \u001b[22m\u001b[32m\u001b[1mPass  \u001b[22m\u001b[39m\u001b[36m\u001b[1mTotal  \u001b[22m\u001b[39m\u001b[0m\u001b[1mTime\u001b[22m\n",
      "Givens Rotation | \u001b[32m 100  \u001b[39m\u001b[36m  100  \u001b[39m\u001b[0m0.0s\n"
     ]
    },
    {
     "data": {
      "text/plain": [
       "Test.DefaultTestSet(\"Givens Rotation\", Any[], 100, false, false, true, 1.67914929073741e9, 1.679149290755598e9)"
      ]
     },
     "execution_count": 54,
     "metadata": {},
     "output_type": "execute_result"
    }
   ],
   "source": [
    "using Test\n",
    "\n",
    "@testset \"Givens Rotation\" begin\n",
    "\tfor i in 1:100\n",
    "\t\tn = rand(1:100)\n",
    "\t\tA = rand_A(n)\n",
    "\t\tQ, R = Givens_rotation(A)\n",
    "\t\t@test Q * R ≈ A\n",
    "\tend\n",
    "end"
   ]
  },
  {
   "attachments": {},
   "cell_type": "markdown",
   "metadata": {},
   "source": [
    "flops of the code is given by\n",
    "$$\n",
    "\\sum_{i = 1}^{n} 6 \\times (2 + i) \\sim 12n + 6 * n^2\n",
    "$$"
   ]
  }
 ],
 "metadata": {
  "kernelspec": {
   "display_name": "Julia 1.8.2",
   "language": "julia",
   "name": "julia-1.8"
  },
  "language_info": {
   "file_extension": ".jl",
   "mimetype": "application/julia",
   "name": "julia",
   "version": "1.8.2"
  },
  "orig_nbformat": 4,
  "vscode": {
   "interpreter": {
    "hash": "9d459467eab24d775681e5db3feddb0dac977128a1c1978f51dad36f75c416d2"
   }
  }
 },
 "nbformat": 4,
 "nbformat_minor": 2
}
