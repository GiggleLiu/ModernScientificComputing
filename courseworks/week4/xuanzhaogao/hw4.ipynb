{
 "cells": [
  {
   "attachments": {},
   "cell_type": "markdown",
   "metadata": {},
   "source": [
    "# Question 1\n",
    "   1. four householder transformations are required.\n",
    "   2. the first column of $A$ after transformation will be $(2, 0, 0, 0)$.\n",
    "   3. the second transformation will not affect the first column of $A$.\n",
    "   4. $6$ times of Givens rotations would be required."
   ]
  },
  {
   "cell_type": "code",
   "execution_count": 6,
   "metadata": {},
   "outputs": [],
   "source": [
    "using LinearAlgebra"
   ]
  },
  {
   "cell_type": "code",
   "execution_count": 57,
   "metadata": {},
   "outputs": [
    {
     "data": {
      "text/plain": [
       "Givens_rotation (generic function with 1 method)"
      ]
     },
     "execution_count": 57,
     "metadata": {},
     "output_type": "execute_result"
    }
   ],
   "source": [
    "function Givens_rotation(A)\n",
    "    n = size(A, 1)\n",
    "    Q = Matrix{eltype(A)}(I, n, n)\n",
    "    R = copy(A)\n",
    "    @inbounds for i = 1:n - 1\n",
    "        t_ii = R[i, i]\n",
    "        t_ji = R[i + 1, i]\n",
    "\n",
    "        r = sqrt(t_ii^2 + t_ji^2)\n",
    "        c = t_ii / r\n",
    "        s = t_ji / r\n",
    "\n",
    "\n",
    "        @inbounds for j in i: min(i+2, n)\n",
    "            A_1 = R[i, j]\n",
    "            A_2 = R[i + 1, j]\n",
    "            R[i, j] = c * A_1 + s * A_2\n",
    "            R[i + 1, j] = - s * A_1 + c * A_2\n",
    "        end\n",
    "        \n",
    "        @inbounds for j in 1:min(i+2, n)\n",
    "            Q_1 = Q[j, i]\n",
    "            Q_2 = Q[j, i + 1]\n",
    "            Q[j, i] = c * Q_1 + s * Q_2\n",
    "            Q[j, i + 1] = - s * Q_1 + c * Q_2\n",
    "        end\n",
    "    end\n",
    "\n",
    "    return Q, R\n",
    "end"
   ]
  },
  {
   "cell_type": "code",
   "execution_count": 58,
   "metadata": {},
   "outputs": [
    {
     "data": {
      "text/plain": [
       "rand_A (generic function with 1 method)"
      ]
     },
     "execution_count": 58,
     "metadata": {},
     "output_type": "execute_result"
    }
   ],
   "source": [
    "using Random\n",
    "\n",
    "\n",
    "function rand_A(n)\n",
    "    A = Matrix(Tridiagonal(rand(n, n)))\n",
    "    return A\n",
    "end"
   ]
  },
  {
   "cell_type": "code",
   "execution_count": 59,
   "metadata": {},
   "outputs": [
    {
     "data": {
      "text/plain": [
       "10×10 Matrix{Float64}:\n",
       " 0.525797  0.432333  0.0       0.0         …  0.0        0.0       0.0\n",
       " 0.655736  0.626761  0.193798  0.0            0.0        0.0       0.0\n",
       " 0.0       0.649041  0.937901  0.00530242     0.0        0.0       0.0\n",
       " 0.0       0.0       0.582498  0.608418       0.0        0.0       0.0\n",
       " 0.0       0.0       0.0       0.534594       0.0        0.0       0.0\n",
       " 0.0       0.0       0.0       0.0         …  0.0        0.0       0.0\n",
       " 0.0       0.0       0.0       0.0            0.0895136  0.0       0.0\n",
       " 0.0       0.0       0.0       0.0            0.0773968  0.271515  0.0\n",
       " 0.0       0.0       0.0       0.0            0.405451   0.603342  0.948676\n",
       " 0.0       0.0       0.0       0.0            0.0        0.431951  0.639478"
      ]
     },
     "execution_count": 59,
     "metadata": {},
     "output_type": "execute_result"
    }
   ],
   "source": [
    "A = rand_A(10)\n",
    "A\n",
    "# Q, R = Givens_rotation(A)"
   ]
  },
  {
   "cell_type": "code",
   "execution_count": 60,
   "metadata": {},
   "outputs": [
    {
     "data": {
      "text/plain": [
       "10×10 Matrix{Float64}:\n",
       " 0.525797  0.432333  -2.23934e-17  …  -1.44151e-17  -2.5086e-18\n",
       " 0.655736  0.626761   0.193798         1.45871e-18   2.81409e-18\n",
       " 0.0       0.649041   0.937901         1.5235e-19    7.16714e-20\n",
       " 0.0       0.0        0.582498        -1.88452e-19   5.06221e-20\n",
       " 0.0       0.0       -6.9154e-18       2.58552e-18   1.50319e-19\n",
       " 0.0       0.0        0.0          …   7.50977e-19   3.87063e-19\n",
       " 0.0       0.0        0.0             -2.24989e-18  -4.45084e-19\n",
       " 0.0       0.0        0.0              0.271515      1.08371e-17\n",
       " 0.0       0.0        0.0              0.603342      0.948676\n",
       " 0.0       0.0        0.0              0.431951      0.639478"
      ]
     },
     "execution_count": 60,
     "metadata": {},
     "output_type": "execute_result"
    }
   ],
   "source": [
    "Q, R = Givens_rotation(A)\n",
    "Q*R"
   ]
  },
  {
   "cell_type": "code",
   "execution_count": 61,
   "metadata": {},
   "outputs": [
    {
     "data": {
      "text/plain": [
       "10×10 Matrix{Float64}:\n",
       " 0.625571  -0.0656279  -0.0557862    0.0637549   …  -0.149171    -0.646884\n",
       " 0.780167   0.0526233   0.0447318   -0.0511214       0.119612     0.518699\n",
       " 0.0        0.996456   -0.00603646   0.00689873     -0.0161414   -0.0699974\n",
       " 0.0        0.0         0.997422     0.00590025     -0.0138052   -0.0598665\n",
       " 0.0        0.0         0.0          0.996614        0.0158717    0.0688279\n",
       " 0.0        0.0         0.0          0.0         …   0.0134603    0.058371\n",
       " 0.0        0.0         0.0          0.0            -0.0456948   -0.198156\n",
       " 0.0        0.0         0.0          0.0             0.104229     0.451993\n",
       " 0.0        0.0         0.0          0.0            -0.00980816  -0.0425332\n",
       " 0.0        0.0         0.0          0.0             0.974427    -0.224703"
      ]
     },
     "execution_count": 61,
     "metadata": {},
     "output_type": "execute_result"
    }
   ],
   "source": [
    "Q"
   ]
  },
  {
   "cell_type": "code",
   "execution_count": 62,
   "metadata": {},
   "outputs": [
    {
     "name": "stdout",
     "output_type": "stream",
     "text": [
      "\u001b[0m\u001b[1mTest Summary:   | \u001b[22m\u001b[32m\u001b[1mPass  \u001b[22m\u001b[39m\u001b[36m\u001b[1mTotal  \u001b[22m\u001b[39m\u001b[0m\u001b[1mTime\u001b[22m\n",
      "Givens Rotation | \u001b[32m 100  \u001b[39m\u001b[36m  100  \u001b[39m\u001b[0m0.0s\n"
     ]
    },
    {
     "data": {
      "text/plain": [
       "Test.DefaultTestSet(\"Givens Rotation\", Any[], 100, false, false, true, 1.679149909985699e9, 1.679149910000437e9)"
      ]
     },
     "execution_count": 62,
     "metadata": {},
     "output_type": "execute_result"
    }
   ],
   "source": [
    "using Test\n",
    "\n",
    "@testset \"Givens Rotation\" begin\n",
    "\tfor i in 1:100\n",
    "\t\tn = rand(1:100)\n",
    "\t\tA = rand_A(n)\n",
    "\t\tQ, R = Givens_rotation(A)\n",
    "\t\t@test Q * R ≈ A\n",
    "\tend\n",
    "end"
   ]
  },
  {
   "attachments": {},
   "cell_type": "markdown",
   "metadata": {},
   "source": [
    "flops of the code is given by\n",
    "$$\n",
    "\\sum_{i = 1}^{n} 6 \\times (2 + i) \\sim 12n + 6 * n^2\n",
    "$$"
   ]
  }
 ],
 "metadata": {
  "kernelspec": {
   "display_name": "Julia 1.8.2",
   "language": "julia",
   "name": "julia-1.8"
  },
  "language_info": {
   "file_extension": ".jl",
   "mimetype": "application/julia",
   "name": "julia",
   "version": "1.8.2"
  },
  "orig_nbformat": 4,
  "vscode": {
   "interpreter": {
    "hash": "9d459467eab24d775681e5db3feddb0dac977128a1c1978f51dad36f75c416d2"
   }
  }
 },
 "nbformat": 4,
 "nbformat_minor": 2
}
