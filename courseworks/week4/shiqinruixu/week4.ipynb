{
 "cells": [
  {
   "attachments": {},
   "cell_type": "markdown",
   "metadata": {},
   "source": [
    "### Q1\n",
    "1. Three Householder transformation are required due to it's a $4\\times 3$ matrix.\n",
    "2. $[2.0 0 0 0]^T$.\n",
    "3. The 1st column of $A$ will remain unchanged.\n",
    "4. $(4-1)+(3-1)+(2-1)+(1-1)=6$ times rotations are needed."
   ]
  },
  {
   "attachments": {},
   "cell_type": "markdown",
   "metadata": {},
   "source": [
    "### Q2"
   ]
  },
  {
   "cell_type": "code",
   "execution_count": 2,
   "metadata": {
    "vscode": {
     "languageId": "julia"
    }
   },
   "outputs": [
    {
     "data": {
      "text/plain": [
       "5×5 Matrix{Float64}:\n",
       " -0.500336    0.0463096   0.0        0.0          0.0\n",
       "  0.0463096  -1.13623     0.256178   0.0          0.0\n",
       "  0.0         0.256178   -0.417988   0.882033     0.0\n",
       "  0.0         0.0         0.882033  -2.10672     -0.00696791\n",
       "  0.0         0.0         0.0       -0.00696791   0.534923"
      ]
     },
     "metadata": {},
     "output_type": "display_data"
    },
    {
     "data": {
      "text/plain": [
       "5×5 Matrix{Float64}:\n",
       " -0.995744  -0.089871  -0.00755351   0.0179287  -0.00622382\n",
       "  0.092163  -0.97098   -0.0816093    0.193704   -0.0672431\n",
       "  0.0        0.221631  -0.360599     0.855901   -0.297121\n",
       "  0.0        0.0        0.929113     0.349345   -0.121273\n",
       "  0.0        0.0        0.0         -0.327945   -0.944697"
      ]
     },
     "metadata": {},
     "output_type": "display_data"
    },
    {
     "data": {
      "text/plain": [
       "5×5 Matrix{Float64}:\n",
       " 0.502475  -0.150831      0.0236101   0.0           0.0\n",
       " 0.0        1.15588      -0.341383    0.195486      0.0\n",
       " 0.0        2.77556e-17   0.949328   -2.27544      -0.00647398\n",
       " 0.0        0.0           0.0         0.0212472    -0.17786\n",
       " 0.0        0.0           0.0         8.67362e-19  -0.504495"
      ]
     },
     "metadata": {},
     "output_type": "display_data"
    },
    {
     "name": "stdout",
     "output_type": "stream",
     "text": [
      "\u001b[0m\u001b[1mTest Summary: | \u001b[22m\u001b[32m\u001b[1mPass  \u001b[22m\u001b[39m\u001b[36m\u001b[1mTotal  \u001b[22m\u001b[39m\u001b[0m\u001b[1mTime\u001b[22m\n",
      "test givens   | \u001b[32m   2  \u001b[39m\u001b[36m    2  \u001b[39m\u001b[0m1.3s\n"
     ]
    },
    {
     "data": {
      "text/plain": [
       "Test.DefaultTestSet(\"test givens\", Any[], 2, false, false, true, 1.683561520903971e9, 1.683561522183982e9)"
      ]
     },
     "metadata": {},
     "output_type": "display_data"
    }
   ],
   "source": [
    "using LinearAlgebra,Test, Random\n",
    "\n",
    "struct GivensMatrix{T} <: AbstractArray{T, 2}\n",
    "\tc::T\n",
    "\ts::T\n",
    "\ti::Int\n",
    "\tj::Int\n",
    "\tn::Int\n",
    "end\n",
    "\n",
    "Base.size(g::GivensMatrix) = (g.n, g.n)\n",
    "\n",
    "Base.size(g::GivensMatrix, i::Int) = i == 1 || i == 2 ? g.n : 1\n",
    "\n",
    "function givens(A, i, j)\n",
    "\tx, y = A[i, 1], A[j, 1]\n",
    "\tnorm = sqrt(x^2 + y^2)\n",
    "\tc = x/norm\n",
    "\ts = y/norm\n",
    "\treturn GivensMatrix(c, s, i, j, size(A, 1))\n",
    "end\n",
    "\n",
    "function left_mul!(A::AbstractMatrix, givens::GivensMatrix)\n",
    "\t@inbounds for col in 1:min(size(A, 2),3)\n",
    "\t\tvi, vj = A[givens.i, col], A[givens.j, col]\n",
    "\t\tA[givens.i, col] = vi * givens.c + vj * givens.s\n",
    "\t\tA[givens.j, col] = -vi * givens.s + vj * givens.c\n",
    "\tend\n",
    "\treturn A\n",
    "end\n",
    "function right_mul!(A::AbstractMatrix, givens::GivensMatrix)\n",
    "\t@inbounds for row in 1:size(A, 1)\n",
    "\t\tvi, vj = A[row, givens.i], A[row, givens.j]\n",
    "\t\tA[row, givens.i] = vi * givens.c + vj * givens.s\n",
    "\t\tA[row, givens.j] = -vi * givens.s + vj * givens.c\n",
    "\tend\n",
    "\treturn A\n",
    "end\n",
    "\n",
    "function givens_trisym!(Q::AbstractMatrix,A::AbstractMatrix)\n",
    "    m, n = size(A)\n",
    "\tif m == 1\n",
    "\t\treturn Q, A\n",
    "\telse\n",
    "\t\tg = givens(A, 1, 2)\n",
    "\t\tleft_mul!(A, g)\n",
    "\t\tright_mul!(Q, g)\n",
    "\n",
    "\t\tgivens_trisym!(view(Q, :, 2:m), view(A, 2:m, 2:n))\n",
    "\t\treturn Q, A\n",
    "\tend\n",
    "end\n",
    "\n",
    "@testset \"test givens\" begin\n",
    "    n = 5\n",
    "    triSym = diagm(randn(Float64,n))\n",
    "    off_diag = randn(Float64,n-1,n-1)\n",
    "    for i in 1:n-1\n",
    "        triSym[i+1,i] = off_diag[i]\n",
    "        triSym[i,i+1] = off_diag[i]\n",
    "    end\n",
    "\n",
    "    display(triSym)\n",
    "    triSym_me= copy(triSym)\n",
    "    my_Q,my_R = givens_trisym!(Matrix{Float64}(I,n,n),triSym_me)\n",
    "    display(my_Q)\n",
    "    display(my_R)\n",
    "    @test my_Q * my_R  ≈ triSym\n",
    "    @test my_Q * my_Q' ≈ I\n",
    "end"
   ]
  },
  {
   "attachments": {},
   "cell_type": "markdown",
   "metadata": {},
   "source": [
    "#### Credits to Yusheng Zhao"
   ]
  }
 ],
 "metadata": {
  "language_info": {
   "name": "python"
  },
  "orig_nbformat": 4
 },
 "nbformat": 4,
 "nbformat_minor": 2
}
