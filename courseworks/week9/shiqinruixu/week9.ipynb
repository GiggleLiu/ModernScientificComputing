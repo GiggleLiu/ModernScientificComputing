{
 "cells": [
  {
   "attachments": {},
   "cell_type": "markdown",
   "metadata": {},
   "source": [
    "### Q1\n",
    "The enisum symbol of the outer product is given by\n",
    "\n",
    "$$\n",
    "i, j \\to ij.\n",
    "$$"
   ]
  },
  {
   "attachments": {},
   "cell_type": "markdown",
   "metadata": {},
   "source": [
    "### Q2\n",
    "$jk,kl,lm,mj \\to $ stands for trace of multipulication of four matrices, given by\n",
    "$$\n",
    "\\text{Tr}{(A B C D)} = \\sum_{j, k, l, m} A_{jk} B_{kl} C_{lm} D_{mj}\\;.\n",
    "$$"
   ]
  },
  {
   "attachments": {},
   "cell_type": "markdown",
   "metadata": {},
   "source": [
    "### Q3\n",
    "1. As shown in the following:\n",
    "![diagram](./digram.jpg)\n",
    "2. ![diagram2](./digram2.jpg)\n",
    "The optimal contraction order should be:\n",
    "\n",
    "Step 1\n",
    "$$\n",
    "abc, pbq \\to acpq\\\\\n",
    "cde, pdr \\to ceqr\\\\\n",
    "......\n",
    "$$\n",
    "which will give us $7$ order-4 tensors, and time cost will be $7 \\times n^5$.\n",
    "\n",
    "Step 2\n",
    "$$\n",
    "acpq, cepr \\to aepr\\\\\n",
    "aepr, egrs \\to agps\\\\\n",
    "......\\\\\n",
    "ampv, mpvw \\to aopw\n",
    "$$\n",
    "and the cost will be $6 \\times n^6$\n",
    "\n",
    "The total cost will be $7 \\times n^5 + 6 \\times n^6$"
   ]
  },
  {
   "attachments": {},
   "cell_type": "markdown",
   "metadata": {},
   "source": [
    "### Q3"
   ]
  },
  {
   "cell_type": "code",
   "execution_count": 2,
   "metadata": {},
   "outputs": [
    {
     "data": {
      "text/plain": [
       "Time complexity (number of element-wise multiplications) = 2^9.247927513443585\n",
       "Space complexity (number of elements in the largest intermediate tensor) = 2^4.0\n",
       "Read-write complexity (number of element-wise read and write) = 2^9.0"
      ]
     },
     "metadata": {},
     "output_type": "display_data"
    }
   ],
   "source": [
    "using LinearAlgebra\n",
    "using OMEinsum\n",
    "using Test\n",
    "\n",
    "eincode = ein\"abc,cde,efg,ghi,ijk,klm,mno,pbq,qdr,rfs,sht,tju,ulv,vnw->apow\"\n",
    "optimized_eincode = optimize_code(eincode, uniformsize(eincode, 2), TreeSA())\n",
    "contraction_complexity(optimized_eincode, uniformsize(optimized_eincode, 2))"
   ]
  },
  {
   "attachments": {},
   "cell_type": "markdown",
   "metadata": {},
   "source": [
    "Check the result of OMEinsum and the result of the coue."
   ]
  },
  {
   "cell_type": "code",
   "execution_count": 3,
   "metadata": {},
   "outputs": [
    {
     "data": {
      "text/plain": [
       "true"
      ]
     },
     "metadata": {},
     "output_type": "display_data"
    }
   ],
   "source": [
    "2^9.247927513443585 ≈ 19 * 2^5"
   ]
  },
  {
   "attachments": {},
   "cell_type": "markdown",
   "metadata": {},
   "source": [
    "#### Credits to Xuanzhao Gao"
   ]
  }
 ],
 "metadata": {
  "kernelspec": {
   "display_name": "Julia 1.8.3",
   "language": "julia",
   "name": "julia-1.8"
  },
  "language_info": {
   "file_extension": ".jl",
   "mimetype": "application/julia",
   "name": "julia",
   "version": "1.8.3"
  },
  "orig_nbformat": 4
 },
 "nbformat": 4,
 "nbformat_minor": 2
}
