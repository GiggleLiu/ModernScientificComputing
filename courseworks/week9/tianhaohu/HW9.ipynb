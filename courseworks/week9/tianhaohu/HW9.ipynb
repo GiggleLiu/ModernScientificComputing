{
 "cells": [
  {
   "cell_type": "code",
   "execution_count": 1,
   "metadata": {},
   "outputs": [
    {
     "data": {
      "text/plain": [
       "forward_norm2 (generic function with 1 method)"
      ]
     },
     "metadata": {},
     "output_type": "display_data"
    }
   ],
   "source": [
    "function forward_norm2(x, ∂x)\n",
    "    sum_square = 0\n",
    "    for i = 1:length(x)\n",
    "        sum_square += abs2(x[i])\n",
    "        ∂x[i] *= 2 * x[i]\n",
    "    end\n",
    "    norm2 = sqrt(sum_square)\n",
    "    ∂x = ∂x/norm2/2\n",
    "    return norm2 , ∂x\n",
    "end"
   ]
  },
  {
   "cell_type": "code",
   "execution_count": 3,
   "metadata": {},
   "outputs": [
    {
     "data": {
      "text/plain": [
       "backward_norm2 (generic function with 1 method)"
      ]
     },
     "metadata": {},
     "output_type": "display_data"
    }
   ],
   "source": [
    "function backward_norm2(x)\n",
    "    Nx = length(x)\n",
    "    η = zeros(Nx+2)\n",
    "    for i = 1:Nx\n",
    "        η[i] = abs2(x[i])\n",
    "        η[Nx+1] += η[i]\n",
    "    end\n",
    "    η[Nx+2] = sqrt(η[Nx+1])\n",
    "    pNx2pNx1 = 1/(2*sqrt(η[Nx+1]))\n",
    "    pNx1pNi = ones(Nx,1)\n",
    "    pNx2pNi = pNx2pNx1.*pNx1pNi\n",
    "    pNipxi = zeros(Nx,1)\n",
    "    for i = 1:Nx\n",
    "        pNipxi[i] = 2*x[i]\n",
    "    end\n",
    "    pNx2pxi = pNx2pNi .* pNipxi\n",
    "    return η[Nx+2],pNx2pxi\n",
    "end"
   ]
  },
  {
   "attachments": {},
   "cell_type": "markdown",
   "metadata": {},
   "source": [
    "$\\eta$ contains two parts: the first Nx $\\eta$ is the square of the elements $x_i$, while the next $\\eta$, namely $\\eta$[Nx+1] is the sum of the square, and the last is the suqare root of $\\eta$[Nx+1]."
   ]
  },
  {
   "cell_type": "code",
   "execution_count": 4,
   "metadata": {},
   "outputs": [
    {
     "data": {
      "text/plain": [
       "poorman_norm (generic function with 1 method)"
      ]
     },
     "metadata": {},
     "output_type": "display_data"
    }
   ],
   "source": [
    "function poorman_norm(x::Vector{<:Real})\n",
    "\tnm2 = zero(real(eltype(x)))\n",
    "\tfor i=1:length(x)\n",
    "\t\tnm2 += abs2(x[i])\n",
    "\tend\n",
    "\tret = sqrt(nm2)\n",
    "\treturn ret\n",
    "end"
   ]
  },
  {
   "cell_type": "code",
   "execution_count": 5,
   "metadata": {},
   "outputs": [],
   "source": [
    "using ForwardDiff\n",
    "using Test"
   ]
  },
  {
   "cell_type": "code",
   "execution_count": 6,
   "metadata": {},
   "outputs": [
    {
     "name": "stdout",
     "output_type": "stream",
     "text": [
      "\u001b[0m\u001b[1mTest Summary: | \u001b[22m\u001b[32m\u001b[1mPass  \u001b[22m\u001b[39m\u001b[36m\u001b[1mTotal  \u001b[22m\u001b[39m\u001b[0m\u001b[1mTime\u001b[22m\n",
      "Forward AD    | \u001b[32m 200  \u001b[39m\u001b[36m  200  \u001b[39m\u001b[0m4.4s\n"
     ]
    },
    {
     "data": {
      "text/plain": [
       "Test.DefaultTestSet(\"Forward AD\", Any[], 200, false, false, true, 1.683528609703038e9, 1.683528614124185e9, false)"
      ]
     },
     "metadata": {},
     "output_type": "display_data"
    }
   ],
   "source": [
    "@testset \"Forward AD\" begin\n",
    "    for i in 1:100\n",
    "        N = rand(1:100)\n",
    "        x = rand(N)\n",
    "        ∂x = ones(N)\n",
    "        norm2, px_2 = forward_norm2(x, ∂x)\n",
    "        @test norm2 ≈ poorman_norm(x)\n",
    "        @test px_2 ≈ ForwardDiff.gradient(poorman_norm, x)        \n",
    "    end\n",
    "end"
   ]
  },
  {
   "cell_type": "code",
   "execution_count": 11,
   "metadata": {},
   "outputs": [
    {
     "name": "stdout",
     "output_type": "stream",
     "text": [
      "\u001b[0m\u001b[1mTest Summary: | \u001b[22m\u001b[32m\u001b[1mPass  \u001b[22m\u001b[39m\u001b[36m\u001b[1mTotal  \u001b[22m\u001b[39m\u001b[0m\u001b[1mTime\u001b[22m\n",
      "Backward AD   | \u001b[32m 200  \u001b[39m\u001b[36m  200  \u001b[39m\u001b[0m0.0s\n"
     ]
    },
    {
     "data": {
      "text/plain": [
       "Test.DefaultTestSet(\"Backward AD\", Any[], 200, false, false, true, 1.683528675511213e9, 1.683528675524039e9, false)"
      ]
     },
     "metadata": {},
     "output_type": "display_data"
    }
   ],
   "source": [
    "@testset \"Backward AD\"  begin\n",
    "    for i in 1:100\n",
    "        N = rand(1:100)\n",
    "        x = rand(N)\n",
    "        norm2,px_2 = backward_norm2(x)\n",
    "        @test norm2 ≈ poorman_norm(x)\n",
    "        @test px_2 ≈ ForwardDiff.gradient(poorman_norm, x)\n",
    "    end       \n",
    "end"
   ]
  },
  {
   "attachments": {},
   "cell_type": "markdown",
   "metadata": {},
   "source": [
    "for an N-d x, N+1 intermediate states are cashed in my reverse mode AD"
   ]
  }
 ],
 "metadata": {
  "kernelspec": {
   "display_name": "Julia 1.9.0-rc1",
   "language": "julia",
   "name": "julia-1.9"
  },
  "language_info": {
   "file_extension": ".jl",
   "mimetype": "application/julia",
   "name": "julia",
   "version": "1.9.0-rc1"
  },
  "orig_nbformat": 4
 },
 "nbformat": 4,
 "nbformat_minor": 2
}
