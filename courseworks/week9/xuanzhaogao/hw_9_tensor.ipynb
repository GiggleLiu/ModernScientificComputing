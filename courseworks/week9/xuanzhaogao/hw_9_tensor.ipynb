{
 "cells": [
  {
   "cell_type": "code",
   "execution_count": 14,
   "metadata": {},
   "outputs": [],
   "source": [
    "using LinearAlgebra\n",
    "using OMEinsum\n",
    "using Test"
   ]
  },
  {
   "attachments": {},
   "cell_type": "markdown",
   "metadata": {},
   "source": [
    "# task 1\n",
    "The enisum symbol of the outer product is given by\n",
    "$$\n",
    "i, j \\to ij\n",
    "$$\n",
    "here is an example"
   ]
  },
  {
   "cell_type": "code",
   "execution_count": 5,
   "metadata": {},
   "outputs": [
    {
     "data": {
      "text/plain": [
       "3×3 Matrix{Int64}:\n",
       "  4   5   6\n",
       "  8  10  12\n",
       " 12  15  18"
      ]
     },
     "metadata": {},
     "output_type": "display_data"
    }
   ],
   "source": [
    "ein\"i, j -> ij\"([1, 2, 3], [4, 5, 6])"
   ]
  },
  {
   "attachments": {},
   "cell_type": "markdown",
   "metadata": {},
   "source": [
    "#  task 2\n",
    "The einsum notation $jk,kl,lm,mj \\to $ stands for trace of multipulication of four matrices, given by\n",
    "$$\n",
    "\\text{Tr}{(A B C D)} = \\sum_{j, k, l, m} A_{jk} B_{kl} C_{lm} D_{mj}\\;.\n",
    "$$\n",
    "Here is an example:"
   ]
  },
  {
   "cell_type": "code",
   "execution_count": 12,
   "metadata": {},
   "outputs": [
    {
     "data": {
      "text/plain": [
       "\u001b[32m\u001b[1mTest Passed\u001b[22m\u001b[39m"
      ]
     },
     "metadata": {},
     "output_type": "display_data"
    }
   ],
   "source": [
    "j, k, l, m = [rand(1:10) for i in 1:4]\n",
    "A = rand(j, k)\n",
    "B = rand(k, l)\n",
    "C = rand(l, m)\n",
    "D = rand(m, j)\n",
    "\n",
    "@test ein\"jk, kl, lm, mj ->\"(A, B, C, D)[1] ≈ tr(A * B * C * D)"
   ]
  },
  {
   "attachments": {},
   "cell_type": "markdown",
   "metadata": {},
   "source": [
    "# task 3\n",
    "The tensor network `\"abc,cde,efg,ghi,ijk,klm,mno->abdfhjlno\"` is known as matrix product state in physics or tensor train in mathematics. Please\n",
    "    \n",
    "1. Draw a diagramatic representation for it.\n",
    "    \n",
    "2. If we contract it with another tensor network `\"pbq,qdr,rfs,sht,tju,ulv,vnw->pbdfhjlnw\"`, i.e., computing `abc,cde,efg,ghi,ijk,klm,mno,pbq,qdr,rfs,sht,tju,ulv,vnw->apow`. What is the optimal contraction order in the diagram, and estimate the contraction complexity (degree of freedoms have the same size $n$).\n",
    "    \n",
    "3. Using `OMEinsum` (check the section \"Probability graph\") to obtain a contraction order and compare it with your answer."
   ]
  },
  {
   "attachments": {},
   "cell_type": "markdown",
   "metadata": {},
   "source": [
    "![tensors](./tensors.jpg)\n",
    "\n",
    "The optimal contraction order should be:\n",
    "\n",
    "Step 1\n",
    "$$\n",
    "abc, pbq \\to acpq\\\\\n",
    "cde, pdr \\to ceqr\\\\\n",
    "......\n",
    "$$\n",
    "which will give us $7$ order-4 tensors, and time cost will be $7 \\times n^5$.\n",
    "\n",
    "Step 2\n",
    "$$\n",
    "acpq, cepr \\to aepr\\\\\n",
    "aepr, egrs \\to agps\\\\\n",
    "......\\\\\n",
    "ampv, mpvw \\to aopw\n",
    "$$\n",
    "and the cost will be $6 \\times n^6$\n",
    "\n",
    "The total cost will be $7 \\times n^5 + 6 \\times n^6$"
   ]
  },
  {
   "cell_type": "code",
   "execution_count": 17,
   "metadata": {},
   "outputs": [
    {
     "data": {
      "text/plain": [
       "abc, cde, efg, ghi, ijk, klm, mno, pbq, qdr, rfs, sht, tju, ulv, vnw -> apow"
      ]
     },
     "metadata": {},
     "output_type": "display_data"
    }
   ],
   "source": [
    "eincode = ein\"abc,cde,efg,ghi,ijk,klm,mno,pbq,qdr,rfs,sht,tju,ulv,vnw->apow\""
   ]
  },
  {
   "cell_type": "code",
   "execution_count": 23,
   "metadata": {},
   "outputs": [
    {
     "data": {
      "text/plain": [
       "SlicedEinsum{Char, DynamicNestedEinsum{Char}}(Char[], apvm, vwmo -> apow\n",
       "├─ kuap, uvkm -> apvm\n",
       "│  ├─ iktu, tiap -> kuap\n",
       "│  │  ├─ ijk, tju -> iktu\n",
       "│  │  │  ├─ ijk\n",
       "│  │  │  └─ tju\n",
       "│  │  └─ ticq, acpq -> tiap\n",
       "│  │     ├─ stgi, gcqs -> ticq\n",
       "│  │     │  ├─ sht, ghi -> stgi\n",
       "│  │     │  │  ⋮\n",
       "│  │     │  │  \n",
       "│  │     │  └─ fgcd, qdfs -> gcqs\n",
       "│  │     │     ⋮\n",
       "│  │     │     \n",
       "│  │     └─ abc, pbq -> acpq\n",
       "│  │        ├─ abc\n",
       "│  │        └─ pbq\n",
       "│  └─ ulv, klm -> uvkm\n",
       "│     ├─ ulv\n",
       "│     └─ klm\n",
       "└─ vnw, mno -> vwmo\n",
       "   ├─ vnw\n",
       "   └─ mno\n",
       ")"
      ]
     },
     "metadata": {},
     "output_type": "display_data"
    }
   ],
   "source": [
    "optimized_eincode = optimize_code(eincode, uniformsize(eincode, 2), TreeSA())"
   ]
  },
  {
   "cell_type": "code",
   "execution_count": 21,
   "metadata": {},
   "outputs": [
    {
     "data": {
      "text/plain": [
       "Time complexity (number of element-wise multiplications) = 2^9.247927513443585\n",
       "Space complexity (number of elements in the largest intermediate tensor) = 2^4.0\n",
       "Read-write complexity (number of element-wise read and write) = 2^9.0"
      ]
     },
     "metadata": {},
     "output_type": "display_data"
    }
   ],
   "source": [
    "contraction_complexity(optimized_eincode, uniformsize(optimized_eincode, 2))"
   ]
  },
  {
   "cell_type": "code",
   "execution_count": 25,
   "metadata": {},
   "outputs": [
    {
     "data": {
      "text/plain": [
       "true"
      ]
     },
     "metadata": {},
     "output_type": "display_data"
    }
   ],
   "source": [
    "# when n = 2, compare the result by OMEinsum and my result\n",
    "2^9.247927513443585 ≈ 19 * 2^5"
   ]
  }
 ],
 "metadata": {
  "kernelspec": {
   "display_name": "Julia 1.8.5",
   "language": "julia",
   "name": "julia-1.8"
  },
  "language_info": {
   "file_extension": ".jl",
   "mimetype": "application/julia",
   "name": "julia",
   "version": "1.8.5"
  },
  "orig_nbformat": 4
 },
 "nbformat": 4,
 "nbformat_minor": 2
}
