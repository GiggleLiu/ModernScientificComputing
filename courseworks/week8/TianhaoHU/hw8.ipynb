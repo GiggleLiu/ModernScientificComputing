{
 "cells": [
  {
   "cell_type": "code",
   "execution_count": 68,
   "metadata": {},
   "outputs": [],
   "source": [
    "using Optim"
   ]
  },
  {
   "cell_type": "code",
   "execution_count": 69,
   "metadata": {},
   "outputs": [
    {
     "data": {
      "text/plain": [
       "create_loss_function (generic function with 1 method)"
      ]
     },
     "metadata": {},
     "output_type": "display_data"
    }
   ],
   "source": [
    "function create_loss_function(vertex_count, edges, locations)\n",
    "    function loss(x)\n",
    "        total_loss = 0.0\n",
    "        for i in 1:vertex_count\n",
    "            for j in (i+1):vertex_count\n",
    "                xi, xj = x[2*i-1:2*i], x[2*j-1:2*j]\n",
    "                dist = sqrt(sum((xi - xj).^2))\n",
    "                connected = any([(i, j) == edge || (j, i) == edge for edge in edges])\n",
    "\n",
    "                if connected && dist > 1.0\n",
    "                    total_loss += (dist - 1.0)^2\n",
    "                elseif !connected && dist < 1.0\n",
    "                    total_loss += (1.0 - dist)^2\n",
    "                end\n",
    "            end\n",
    "        end\n",
    "        return total_loss\n",
    "    end\n",
    "end"
   ]
  },
  {
   "cell_type": "code",
   "execution_count": 70,
   "metadata": {},
   "outputs": [
    {
     "data": {
      "text/plain": [
       "unit_disk_embedding (generic function with 1 method)"
      ]
     },
     "metadata": {},
     "output_type": "display_data"
    }
   ],
   "source": [
    "function unit_disk_embedding(vertex_count, edges)\n",
    "    locations = rand(2, vertex_count)\n",
    "    loss_function = create_loss_function(vertex_count, edges, locations)\n",
    "    res = optimize(loss_function, vec(locations), LBFGS())\n",
    "    min_loss = Optim.minimum(res)\n",
    "\n",
    "    if min_loss < 1e-6\n",
    "        locations_opt = reshape(Optim.minimizer(res), 2, vertex_count)\n",
    "        return true, locations_opt\n",
    "    else\n",
    "        return false, nothing\n",
    "    end\n",
    "end"
   ]
  },
  {
   "cell_type": "code",
   "execution_count": 71,
   "metadata": {},
   "outputs": [
    {
     "data": {
      "text/plain": [
       "21-element Vector{Tuple{Int64, Int64}}:\n",
       " (1, 2)\n",
       " (1, 3)\n",
       " (2, 3)\n",
       " (2, 4)\n",
       " (2, 5)\n",
       " (2, 6)\n",
       " (3, 5)\n",
       " (3, 6)\n",
       " (3, 7)\n",
       " (4, 5)\n",
       " ⋮\n",
       " (5, 8)\n",
       " (5, 9)\n",
       " (6, 7)\n",
       " (6, 8)\n",
       " (6, 9)\n",
       " (7, 9)\n",
       " (8, 9)\n",
       " (8, 10)\n",
       " (9, 10)"
      ]
     },
     "metadata": {},
     "output_type": "display_data"
    }
   ],
   "source": [
    "vertex_count = 10\n",
    "edges = E = [(1, 2), (1, 3),\n",
    "(2, 3), (2, 4), (2, 5), (2, 6),\n",
    "(3, 5), (3, 6), (3, 7),\n",
    "(4, 5), (4, 8),\n",
    "(5, 6), (5, 8), (5, 9),\n",
    "(6, 7), (6, 8), (6, 9),\n",
    "(7,9), (8, 9), (8, 10), (9, 10)]"
   ]
  },
  {
   "cell_type": "code",
   "execution_count": 73,
   "metadata": {},
   "outputs": [
    {
     "name": "stdout",
     "output_type": "stream",
     "text": [
      "The graph has a unit-disk embedding:\n"
     ]
    },
    {
     "name": "stdout",
     "output_type": "stream",
     "text": [
      "Vertex 1: ([1.492003786076033, -0.33811751278073765])\n",
      "Vertex 2: ([1.1393774565716053, 0.3121919202881658])\n",
      "Vertex 3: ([0.555945981507419, -0.2764106453733298])\n",
      "Vertex 4: ([1.0414955028875579, 0.870735662717676])\n",
      "Vertex 5: ([0.6723881429533851, 0.29822985094970833])\n",
      "Vertex 6: ([0.17300914970535186, 0.23767099263956082])\n",
      "Vertex 7: ([-0.3258942775248786, 0.1724935315250641])\n",
      "Vertex 8: ([0.3533057715570698, 1.2026738071134646])\n",
      "Vertex 9: ([0.012146382066828082, 0.6982967191340427])\n",
      "Vertex 10: ([0.15276187700109914, 1.5302858975521691])\n"
     ]
    }
   ],
   "source": [
    "has_unit_disk_embedding, locations = unit_disk_embedding(vertex_count, edges)\n",
    "\n",
    "if has_unit_disk_embedding\n",
    "    println(\"The graph has a unit-disk embedding:\")\n",
    "    for (i, loc) in enumerate(eachcol(locations))\n",
    "        println(\"Vertex $i: ($loc)\")\n",
    "    end\n",
    "else\n",
    "    println(\"The graph does not have a unit-disk embedding.\")\n",
    "end"
   ]
  }
 ],
 "metadata": {
  "kernelspec": {
   "display_name": "Julia 1.9.0-rc1",
   "language": "julia",
   "name": "julia-1.9"
  },
  "language_info": {
   "file_extension": ".jl",
   "mimetype": "application/julia",
   "name": "julia",
   "version": "1.9.0-rc1"
  },
  "orig_nbformat": 4
 },
 "nbformat": 4,
 "nbformat_minor": 2
}
