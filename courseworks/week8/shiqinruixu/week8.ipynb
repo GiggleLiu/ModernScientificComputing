{
 "cells": [
  {
   "attachments": {},
   "cell_type": "markdown",
   "metadata": {},
   "source": [
    "### Week 8 Homework\n",
    "\n",
    "#### Q1\n",
    "$$\n",
    "\\begin{split}\n",
    "    & \\eta(\\tau,\\delta) - \\sum_{k=0}^\\delta \\eta(\\tau-1,k) \\\\\n",
    "    = & \\frac{(\\tau + \\delta)!}{\\tau!~\\delta!} - \\sum_{k=0}^\\delta \\frac{(\\tau - 1 + k)!}{(\\tau - 1)!~ k!} \\\\\n",
    "    = & \\frac{(\\tau + \\delta)!}{\\tau!~\\delta!} - \\sum_{k=0}^\\delta \\frac{\\tau~(\\tau - 1 + k)!}{(\\tau)!~ k!} \\\\\n",
    "    = & \\frac{1}{\\tau !} \\left(\n",
    "            \\frac{(\\tau + \\delta)!}{\\delta!} - \\frac{\\tau~(\\tau - 1 + \\delta)!}{\\delta!} - \\sum_{k=0}^{\\delta - 1} \\frac{\\tau~(\\tau - 1 + k)!}{k!}\n",
    "        \\right)\\\\\n",
    "    = & \\frac{1}{\\tau !} \\left(\n",
    "            \\frac{(\\tau + \\delta - \\delta)(\\tau + \\delta - 1)!}{(\\delta)!} - \\sum_{k=0}^{\\delta - 1} \\frac{\\tau~(\\tau - 1 + k)!}{k!}\n",
    "        \\right)\\\\\n",
    "    = & \\frac{1}{\\tau !} \\left(\n",
    "            \\frac{(\\tau + \\delta - 1)!}{(\\delta - 1)!} - \\sum_{k=0}^{\\delta - 1} \\frac{\\tau~(\\tau - 1 + k)!}{k!}\n",
    "        \\right)\\\\\n",
    "     = & \\eta(\\tau,\\delta - 1) - \\sum_{k=0}^{\\delta - 1} \\eta(\\tau-1,k)\\\\\n",
    "     = & \\eta(\\tau,0) - \\eta(\\tau-1,0) = 1 - 1 = 0\n",
    "\\end{split}\n",
    "$$"
   ]
  },
  {
   "attachments": {},
   "cell_type": "markdown",
   "metadata": {},
   "source": [
    "#### Tasks"
   ]
  },
  {
   "attachments": {},
   "cell_type": "markdown",
   "metadata": {},
   "source": [
    "Calculate the square root of norm."
   ]
  },
  {
   "cell_type": "code",
   "execution_count": 14,
   "metadata": {},
   "outputs": [
    {
     "data": {
      "text/plain": [
       "poorman_norm (generic function with 1 method)"
      ]
     },
     "metadata": {},
     "output_type": "display_data"
    }
   ],
   "source": [
    "using ForwardDiff\n",
    "using Test\n",
    "\n",
    "function poorman_norm(x::Vector{<:Real})\n",
    "\tnm2 = zero(real(eltype(x)))\n",
    "\tfor i=1:length(x)\n",
    "\t\tnm2 += abs2(x[i])\n",
    "\tend\n",
    "\tret = sqrt(nm2)\n",
    "\treturn ret\n",
    "end"
   ]
  },
  {
   "attachments": {},
   "cell_type": "markdown",
   "metadata": {},
   "source": [
    "##### Task1\n",
    "For forward autodiff"
   ]
  },
  {
   "cell_type": "code",
   "execution_count": 15,
   "metadata": {},
   "outputs": [
    {
     "data": {
      "text/plain": [
       "forward_diff_norm! (generic function with 1 method)"
      ]
     },
     "metadata": {},
     "output_type": "display_data"
    }
   ],
   "source": [
    "function forward_diff_norm!(x::Vector{<:Real}, partial_x::Vector{<:Real})\n",
    "    nm2 = zero(real(eltype(x)))\n",
    "    for i = 1:length(x)\n",
    "        nm2 += abs2(x[i])\n",
    "        partial_x[i] *= 2 * x[i]\n",
    "    end\n",
    "    ret = sqrt(nm2)\n",
    "    partial_x .*= 1 / (2 * ret)\n",
    "    return ret, partial_x\n",
    "end"
   ]
  },
  {
   "cell_type": "code",
   "execution_count": 16,
   "metadata": {},
   "outputs": [
    {
     "name": "stdout",
     "output_type": "stream",
     "text": [
      "\u001b[0m\u001b[1mTest Summary:              | \u001b[22m\u001b[32m\u001b[1mPass  \u001b[22m\u001b[39m\u001b[36m\u001b[1mTotal  \u001b[22m\u001b[39m\u001b[0m\u001b[1mTime\u001b[22m\n",
      "Forward mode autodiff test | \u001b[32m 200  \u001b[39m\u001b[36m  200  \u001b[39m\u001b[0m0.3s\n"
     ]
    },
    {
     "data": {
      "text/plain": [
       "Test.DefaultTestSet(\"Forward mode autodiff test\", Any[], 200, false, false, true, 1.684315906093323e9, 1.68431590637698e9)"
      ]
     },
     "metadata": {},
     "output_type": "display_data"
    }
   ],
   "source": [
    "@testset \"Forward mode autodiff test\" begin\n",
    "    for i in 1:100\n",
    "        N = rand(1:100)\n",
    "        x = rand(N)\n",
    "        partial_x = [1.0 for i in 1:N]\n",
    "        ret, diff_x = forward_diff_norm!(x, partial_x)\n",
    "        @test ret ≈ poorman_norm(x)\n",
    "        @test diff_x ≈ ForwardDiff.gradient(poorman_norm, x)        \n",
    "    end\n",
    "end"
   ]
  },
  {
   "attachments": {},
   "cell_type": "markdown",
   "metadata": {},
   "source": [
    "##### Task2"
   ]
  },
  {
   "attachments": {},
   "cell_type": "markdown",
   "metadata": {},
   "source": [
    "This code uses a stack to store $N+1$ data ($x$ is a $N-d$ data)"
   ]
  },
  {
   "cell_type": "code",
   "execution_count": 17,
   "metadata": {},
   "outputs": [
    {
     "data": {
      "text/plain": [
       "reverse_norm_backward! (generic function with 1 method)"
      ]
     },
     "metadata": {},
     "output_type": "display_data"
    }
   ],
   "source": [
    "# Forward process\n",
    "function reverse_norm_forward!(x::Vector{<:Real}, stack::Vector{<:Real})\n",
    "    nm2 = zero(real(eltype(x)))\n",
    "\tfor i=1:length(x)\n",
    "\t\tpush!(stack, x[i])\n",
    "\t\tnm2 += abs2(x[i])\n",
    "\tend\n",
    "\tpush!(stack, nm2)\n",
    "\tret = sqrt(nm2)\n",
    "\treturn ret, stack\n",
    "end\n",
    "\n",
    "# Backward process\n",
    "function reverse_norm_backward!(partial_x::Vector{<:Real}, stack::Vector{<:Real})\n",
    "\tnm2 = pop!(stack)\n",
    "\tpartial_x .*= 1 / (2 * sqrt(nm2))\n",
    "\tN = length(partial_x)\n",
    "\tfor i in 1:N\n",
    "\t\tx = pop!(stack)\n",
    "\t\tpartial_x[N + 1 - i] *= 2 * x\n",
    "\tend\n",
    "\treturn partial_x, stack\n",
    "end"
   ]
  },
  {
   "cell_type": "code",
   "execution_count": 19,
   "metadata": {},
   "outputs": [
    {
     "name": "stdout",
     "output_type": "stream",
     "text": [
      "\u001b[0m\u001b[1mTest Summary:              | \u001b[22m\u001b[32m\u001b[1mPass  \u001b[22m\u001b[39m\u001b[36m\u001b[1mTotal  \u001b[22m\u001b[39m\u001b[0m\u001b[1mTime\u001b[22m\n",
      "Reverse mode autodiff test | \u001b[32m 200  \u001b[39m\u001b[36m  200  \u001b[39m\u001b[0m0.1s\n"
     ]
    },
    {
     "data": {
      "text/plain": [
       "Test.DefaultTestSet(\"Reverse mode autodiff test\", Any[], 200, false, false, true, 1.684315926708938e9, 1.68431592679219e9)"
      ]
     },
     "metadata": {},
     "output_type": "display_data"
    }
   ],
   "source": [
    "@testset \"Reverse mode autodiff test\" begin\n",
    "    for i in 1:100\n",
    "        N = rand(1:100)\n",
    "        x = rand(N)\n",
    "        partial_x = [1.0 for i in 1:N]\n",
    "        stack = Vector{Real}()\n",
    "        ret, stack = reverse_norm_forward!(x, stack)\n",
    "        partial_x, stack = reverse_norm_backward!(partial_x, stack)\n",
    "        @test ret ≈ poorman_norm(x)\n",
    "        @test partial_x ≈ ForwardDiff.gradient(poorman_norm, x)        \n",
    "    end\n",
    "end"
   ]
  },
  {
   "attachments": {},
   "cell_type": "markdown",
   "metadata": {},
   "source": [
    "#### Credits to Xuanzhao Gao"
   ]
  }
 ],
 "metadata": {
  "kernelspec": {
   "display_name": "Julia 1.8.3",
   "language": "julia",
   "name": "julia-1.8"
  },
  "language_info": {
   "file_extension": ".jl",
   "mimetype": "application/julia",
   "name": "julia",
   "version": "1.8.3"
  },
  "orig_nbformat": 4
 },
 "nbformat": 4,
 "nbformat_minor": 2
}
