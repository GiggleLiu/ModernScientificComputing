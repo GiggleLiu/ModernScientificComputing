{
 "cells": [
  {
   "attachments": {},
   "cell_type": "markdown",
   "metadata": {},
   "source": [
    "# HW8\n",
    "\n",
    "1. Given the binomial function $\\eta(\\tau, \\delta) = \\frac{(\\tau + \\delta)!}{\\tau!\\delta!}$, show that the following statement is true.\n",
    "$$\n",
    "\\eta(\\tau,\\delta) = \\sum_{k=0}^\\delta \\eta(\\tau-1,k)\n",
    "$$\n",
    "\n",
    "*Proof.*\n",
    "\n",
    "$$\n",
    "\\begin{split}\n",
    "    & \\eta(\\tau,\\delta) - \\sum_{k=0}^\\delta \\eta(\\tau-1,k) \\\\\n",
    "    = & \\frac{(\\tau + \\delta)!}{\\tau!~\\delta!} - \\sum_{k=0}^\\delta \\frac{(\\tau - 1 + k)!}{(\\tau - 1)!~ k!} \\\\\n",
    "    = & \\frac{(\\tau + \\delta)!}{\\tau!~\\delta!} - \\sum_{k=0}^\\delta \\frac{\\tau~(\\tau - 1 + k)!}{(\\tau)!~ k!} \\\\\n",
    "    = & \\frac{1}{\\tau !} \\left(\n",
    "            \\frac{(\\tau + \\delta)!}{\\delta!} - \\frac{\\tau~(\\tau - 1 + \\delta)!}{\\delta!} - \\sum_{k=0}^{\\delta - 1} \\frac{\\tau~(\\tau - 1 + k)!}{k!}\n",
    "        \\right)\\\\\n",
    "    = & \\frac{1}{\\tau !} \\left(\n",
    "            \\frac{(\\tau + \\delta - 1)!}{(\\delta - 1)!} - \\sum_{k=0}^{\\delta - 1} \\frac{\\tau~(\\tau - 1 + k)!}{k!}\n",
    "        \\right)\\\\\n",
    "     = & \\eta(\\tau,\\delta - 1) - \\sum_{k=0}^{\\delta - 1} \\eta(\\tau-1,k)\\\\\n",
    "     = & \\eta(\\tau,0) - \\eta(\\tau-1,0) = 1 - 1 = 0\n",
    "\\end{split}\n",
    "$$"
   ]
  },
  {
   "attachments": {},
   "cell_type": "markdown",
   "metadata": {},
   "source": [
    "2. Given the following program to compute the $l_2$-norm of a vector $x\\in R^n$.\n",
    "\n",
    "In the program, the ```abs2``` and ```sqrt``` functions can be treated as primitive functions, which means they should not be further decomposed as more elementary functions.\n",
    "\n",
    "### Tasks\n",
    "1. Rewrite the program (on paper or with code) to implement the forward mode autodiff, where you can use the notation $\\dot y_i \\equiv \\frac{\\partial y}{\\partial x_i}$ to denote a derivative.\n",
    "2. Rewrite the program (on paper or with code) to implement the reverse mode autodiff, where you can use the notation $\\overline y \\equiv \\frac{\\partial \\mathcal{L}}{\\partial y}$ to denote an adjoint, $y \\rightarrow T$ to denote pushing a variable to the global stack, and $y \\leftarrow T$ to denote poping a variable from the global stack. In your submission, both the forward pass and backward pass should be included.\n",
    "3. Estimate how many intermediate states is cached in your reverse mode autodiff program?"
   ]
  },
  {
   "cell_type": "code",
   "execution_count": 7,
   "metadata": {},
   "outputs": [
    {
     "data": {
      "text/plain": [
       "poorman_norm (generic function with 1 method)"
      ]
     },
     "metadata": {},
     "output_type": "display_data"
    }
   ],
   "source": [
    "using ForwardDiff\n",
    "using Test\n",
    "\n",
    "function poorman_norm(x::Vector{<:Real})\n",
    "\tnm2 = zero(real(eltype(x)))\n",
    "\tfor i=1:length(x)\n",
    "\t\tnm2 += abs2(x[i])\n",
    "\tend\n",
    "\tret = sqrt(nm2)\n",
    "\treturn ret\n",
    "end"
   ]
  },
  {
   "cell_type": "code",
   "execution_count": 16,
   "metadata": {},
   "outputs": [
    {
     "data": {
      "text/plain": [
       "forward_diff_norm! (generic function with 1 method)"
      ]
     },
     "metadata": {},
     "output_type": "display_data"
    }
   ],
   "source": [
    "# task 1, function for forward autodiff\n",
    "\n",
    "function forward_diff_norm!(x::Vector{<:Real}, partial_x::Vector{<:Real})\n",
    "    nm2 = zero(real(eltype(x)))\n",
    "    for i = 1:length(x)\n",
    "        nm2 += abs2(x[i])\n",
    "        partial_x[i] *= 2 * x[i]\n",
    "    end\n",
    "    ret = sqrt(nm2)\n",
    "    partial_x .*= 1 / (2 * ret)\n",
    "    return ret, partial_x\n",
    "end"
   ]
  },
  {
   "cell_type": "code",
   "execution_count": 43,
   "metadata": {},
   "outputs": [
    {
     "name": "stdout",
     "output_type": "stream",
     "text": [
      "\u001b[0m\u001b[1mTest Summary:              | \u001b[22m\u001b[32m\u001b[1mPass  \u001b[22m\u001b[39m\u001b[36m\u001b[1mTotal  \u001b[22m\u001b[39m\u001b[0m\u001b[1mTime\u001b[22m\n",
      "Forward mode autodiff test | \u001b[32m 200  \u001b[39m\u001b[36m  200  \u001b[39m\u001b[0m0.0s\n"
     ]
    },
    {
     "data": {
      "text/plain": [
       "Test.DefaultTestSet(\"Forward mode autodiff test\", Any[], 200, false, false, true, 1.681744114704987e9, 1.681744114729793e9)"
      ]
     },
     "metadata": {},
     "output_type": "display_data"
    }
   ],
   "source": [
    "@testset \"Forward mode autodiff test\" begin\n",
    "    for i in 1:100\n",
    "        N = rand(1:100)\n",
    "        x = rand(N)\n",
    "        partial_x = [1.0 for i in 1:N]\n",
    "        ret, diff_x = forward_diff_norm!(x, partial_x)\n",
    "        @test ret ≈ poorman_norm(x)\n",
    "        @test diff_x ≈ ForwardDiff.gradient(poorman_norm, x)        \n",
    "    end\n",
    "end"
   ]
  },
  {
   "cell_type": "code",
   "execution_count": 44,
   "metadata": {},
   "outputs": [
    {
     "data": {
      "text/plain": [
       "reverse_norm_backward! (generic function with 1 method)"
      ]
     },
     "metadata": {},
     "output_type": "display_data"
    }
   ],
   "source": [
    "# task 2\n",
    "\n",
    "# this part is the forward process\n",
    "function reverse_norm_forward!(x::Vector{<:Real}, stack::Vector{<:Real})\n",
    "    nm2 = zero(real(eltype(x)))\n",
    "\tfor i=1:length(x)\n",
    "\t\tpush!(stack, x[i])\n",
    "\t\tnm2 += abs2(x[i])\n",
    "\tend\n",
    "\tpush!(stack, nm2)\n",
    "\tret = sqrt(nm2)\n",
    "\treturn ret, stack\n",
    "end\n",
    "\n",
    "# this part is the backward process\n",
    "function reverse_norm_backward!(partial_x::Vector{<:Real}, stack::Vector{<:Real})\n",
    "\tnm2 = pop!(stack)\n",
    "\tpartial_x .*= 1 / (2 * sqrt(nm2))\n",
    "\tN = length(partial_x)\n",
    "\tfor i in 1:N\n",
    "\t\tx = pop!(stack)\n",
    "\t\tpartial_x[N + 1 - i] *= 2 * x\n",
    "\tend\n",
    "\treturn partial_x, stack\n",
    "end"
   ]
  },
  {
   "cell_type": "code",
   "execution_count": 45,
   "metadata": {},
   "outputs": [
    {
     "name": "stdout",
     "output_type": "stream",
     "text": [
      "\u001b[0m\u001b[1mTest Summary:              | \u001b[22m\u001b[32m\u001b[1mPass  \u001b[22m\u001b[39m\u001b[36m\u001b[1mTotal  \u001b[22m\u001b[39m\u001b[0m\u001b[1mTime\u001b[22m\n",
      "Reverse mode autodiff test | \u001b[32m 200  \u001b[39m\u001b[36m  200  \u001b[39m\u001b[0m0.1s\n"
     ]
    },
    {
     "data": {
      "text/plain": [
       "Test.DefaultTestSet(\"Reverse mode autodiff test\", Any[], 200, false, false, true, 1.681744116112714e9, 1.681744116180288e9)"
      ]
     },
     "metadata": {},
     "output_type": "display_data"
    }
   ],
   "source": [
    "@testset \"Reverse mode autodiff test\" begin\n",
    "    for i in 1:100\n",
    "        N = rand(1:100)\n",
    "        x = rand(N)\n",
    "        partial_x = [1.0 for i in 1:N]\n",
    "        stack = Vector{Real}()\n",
    "        ret, stack = reverse_norm_forward!(x, stack)\n",
    "        partial_x, stack = reverse_norm_backward!(partial_x, stack)\n",
    "        @test ret ≈ poorman_norm(x)\n",
    "        @test partial_x ≈ ForwardDiff.gradient(poorman_norm, x)        \n",
    "    end\n",
    "end"
   ]
  },
  {
   "attachments": {},
   "cell_type": "markdown",
   "metadata": {},
   "source": [
    "In my reverse mode, there are $N + 1$ data stored in the stack, when $x$ is a N-d data."
   ]
  }
 ],
 "metadata": {
  "kernelspec": {
   "display_name": "Julia 1.8.2",
   "language": "julia",
   "name": "julia-1.8"
  },
  "language_info": {
   "file_extension": ".jl",
   "mimetype": "application/julia",
   "name": "julia",
   "version": "1.8.2"
  },
  "orig_nbformat": 4
 },
 "nbformat": 4,
 "nbformat_minor": 2
}
