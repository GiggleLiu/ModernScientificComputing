{
 "cells": [
  {
   "cell_type": "code",
   "execution_count": 1,
   "metadata": {},
   "outputs": [
    {
     "data": {
      "text/plain": [
       "three_x_solver (generic function with 1 method)"
      ]
     },
     "execution_count": 1,
     "metadata": {},
     "output_type": "execute_result"
    }
   ],
   "source": [
    "function three_x_solver(steps::Int, initial::Int)\n",
    "    x = Array{Int}(undef, steps)\n",
    "    p_step = initial\n",
    "    for s in 1:steps\n",
    "        if isodd(p_step) == 1\n",
    "            p_step *= 3\n",
    "            p_step += 1\n",
    "        else\n",
    "            p_step /= 2\n",
    "        end\n",
    "        x[s] = p_step\n",
    "    end\n",
    "    return x\n",
    "end"
   ]
  },
  {
   "cell_type": "code",
   "execution_count": 2,
   "metadata": {},
   "outputs": [
    {
     "data": {
      "text/plain": [
       "three_x_add_one_solver (generic function with 1 method)"
      ]
     },
     "execution_count": 2,
     "metadata": {},
     "output_type": "execute_result"
    }
   ],
   "source": [
    "function three_x_add_one_solver(initial::Int)\n",
    "    p_step = initial\n",
    "    step = 0\n",
    "    while p_step != 1\n",
    "        if isodd(p_step) == 1\n",
    "            p_step *= 3\n",
    "            p_step += 1\n",
    "        else\n",
    "            p_step /= 2\n",
    "        end\n",
    "        step += 1\n",
    "    end\n",
    "\n",
    "    # println(\"The program ends in $step steps and converge to 1.\")\n",
    "    return true\n",
    "end"
   ]
  },
  {
   "cell_type": "code",
   "execution_count": 3,
   "metadata": {},
   "outputs": [],
   "source": [
    "using BenchmarkTools\n",
    "using Random\n",
    "using Test"
   ]
  },
  {
   "cell_type": "code",
   "execution_count": 7,
   "metadata": {},
   "outputs": [
    {
     "name": "stdout",
     "output_type": "stream",
     "text": [
      "\u001b[0m\u001b[1mTest Summary: | \u001b[22m\u001b[32m\u001b[1m      Pass  \u001b[22m\u001b[39m\u001b[36m\u001b[1m     Total  \u001b[22m\u001b[39m\u001b[0m\u001b[1m    Time\u001b[22m\n",
      "test set      | \u001b[32m2147483647  \u001b[39m\u001b[36m2147483647  \u001b[39m\u001b[0m42m54.3s\n"
     ]
    },
    {
     "data": {
      "text/plain": [
       "Test.DefaultTestSet(\"test set\", Any[], 2147483647, false, false, true, 1.678008093946815e9, 1.678010668278008e9)"
      ]
     },
     "execution_count": 7,
     "metadata": {},
     "output_type": "execute_result"
    }
   ],
   "source": [
    "@testset begin\n",
    "    for i in 1:typemax(Int32)\n",
    "        @test three_x_add_one_solver(i) == true\n",
    "    end\n",
    "end"
   ]
  },
  {
   "cell_type": "code",
   "execution_count": 2,
   "metadata": {},
   "outputs": [
    {
     "data": {
      "text/plain": [
       "2147483647"
      ]
     },
     "execution_count": 2,
     "metadata": {},
     "output_type": "execute_result"
    }
   ],
   "source": [
    "typemax(Int32)"
   ]
  },
  {
   "cell_type": "code",
   "execution_count": null,
   "metadata": {},
   "outputs": [],
   "source": []
  }
 ],
 "metadata": {
  "kernelspec": {
   "display_name": "Julia 1.8.2",
   "language": "julia",
   "name": "julia-1.8"
  },
  "language_info": {
   "file_extension": ".jl",
   "mimetype": "application/julia",
   "name": "julia",
   "version": "1.8.2"
  },
  "orig_nbformat": 4
 },
 "nbformat": 4,
 "nbformat_minor": 2
}
