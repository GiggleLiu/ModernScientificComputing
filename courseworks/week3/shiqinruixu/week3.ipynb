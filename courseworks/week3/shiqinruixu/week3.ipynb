{
 "cells": [
  {
   "attachments": {},
   "cell_type": "markdown",
   "metadata": {},
   "source": [
    "### Q1\n",
    "If $a$ is a constant, then\n",
    "$$\\kappa=\\lim_{\\delta\\epsilon\\rightarrow 0}\\sup \\frac{\\lVert\\delta f/f\\rVert}{\\lVert\\delta b/b\\rVert}.$$\n",
    "\n",
    "If $b$ is a constant, then\n",
    "$$\\kappa=\\lim_{\\delta\\epsilon\\rightarrow 0}\\sup \\frac{\\lVert\\delta f/f\\rVert}{\\lVert\\delta a/a\\rVert}.$$"
   ]
  },
  {
   "cell_type": "code",
   "execution_count": 2,
   "metadata": {},
   "outputs": [
    {
     "name": "stdout",
     "output_type": "stream",
     "text": [
      "Condition number of matrix a: 1.0e20\n",
      "Condition number of matrix b: 1.0\n",
      "Condition number of matrix c: 1.0\n",
      "Condition number of matrix d: 2.517588727560788e16\n"
     ]
    }
   ],
   "source": [
    "using LinearAlgebra\n",
    "\n",
    "# Define the matrices\n",
    "a = [10^10 0; 0 10^(-10)]\n",
    "b = [10^10 0; 0 10^10]\n",
    "c = [10^(-10) 0; 0 10^(-10)]\n",
    "d = [1 2; 2 4]\n",
    "\n",
    "# Compute the condition numbers\n",
    "cond_a = cond(a, 2)\n",
    "cond_b = cond(b, 2)\n",
    "cond_c = cond(c, 2)\n",
    "cond_d = cond(d, 2)\n",
    "\n",
    "\n",
    "# Print the condition numbers\n",
    "println(\"Condition number of matrix a: \", cond_a)\n",
    "println(\"Condition number of matrix b: \", cond_b)\n",
    "println(\"Condition number of matrix c: \", cond_c)\n",
    "println(\"Condition number of matrix d: \", cond_d)"
   ]
  },
  {
   "attachments": {},
   "cell_type": "markdown",
   "metadata": {},
   "source": [
    "### Q2\n",
    "Condition number for each matrix:\n",
    "(a) $10^{20}$ (b) $1$ (c) $1$ (d) $2.52$.\n",
    "\n",
    "So (a) and (d) are ill-conditioned, and (b) and (c) are well-conditioned."
   ]
  },
  {
   "attachments": {},
   "cell_type": "markdown",
   "metadata": {},
   "source": [
    "### Q3"
   ]
  },
  {
   "cell_type": "code",
   "execution_count": 3,
   "metadata": {},
   "outputs": [
    {
     "data": {
      "text/plain": [
       "gauss_jordan (generic function with 1 method)"
      ]
     },
     "metadata": {},
     "output_type": "display_data"
    }
   ],
   "source": [
    "using LinearAlgebra\n",
    "\n",
    "function gauss_jordan(A_in)\n",
    "    A = copy(A_in)\n",
    "    n = size(A,1)\n",
    "    B = Matrix{Float64}(I, n, n)\n",
    "    for i = 1:n\n",
    "        for j = 1:n\n",
    "            if j != i\n",
    "                c_ji = A[j, i] / A[i, i]\n",
    "                for k = 1 : i\n",
    "                    B[j, k] -= B[i, k] * c_ji\n",
    "                end \n",
    "                for k = i : n\n",
    "                    A[j, k] -= A[i, k] * c_ji\n",
    "                end\n",
    "            end\n",
    "        end\n",
    "    end\n",
    "\n",
    "    for i = 1:n\n",
    "        for j in 1:n\n",
    "            B[i, j] = B[i, j] / A[i, i]            \n",
    "        end\n",
    "    end\n",
    "    return B\n",
    "end"
   ]
  },
  {
   "cell_type": "code",
   "execution_count": 4,
   "metadata": {},
   "outputs": [
    {
     "name": "stdout",
     "output_type": "stream",
     "text": [
      "\u001b[0m\u001b[1mTest Summary: | \u001b[22m\u001b[32m\u001b[1mPass  \u001b[22m\u001b[39m\u001b[36m\u001b[1mTotal  \u001b[22m\u001b[39m\u001b[0m\u001b[1mTime\u001b[22m\n",
      "Gauss Jordan  | \u001b[32m   1  \u001b[39m\u001b[36m    1  \u001b[39m\u001b[0m0.9s\n"
     ]
    },
    {
     "data": {
      "text/plain": [
       "Test.DefaultTestSet(\"Gauss Jordan\", Any[], 1, false, false, true, 1.683559672364168e9, 1.68355967323553e9)"
      ]
     },
     "metadata": {},
     "output_type": "display_data"
    }
   ],
   "source": [
    "using Test\n",
    "@testset \"Gauss Jordan\" begin\n",
    "\tn = 10\n",
    "\tA = randn(n, n)\n",
    "\t@test gauss_jordan(A) * A ≈ Matrix{Float64}(I, n, n)\n",
    "end"
   ]
  },
  {
   "attachments": {},
   "cell_type": "markdown",
   "metadata": {},
   "source": [
    "#### Credits to Xuanzhao Gao"
   ]
  }
 ],
 "metadata": {
  "kernelspec": {
   "display_name": "Julia 1.8.3",
   "language": "julia",
   "name": "julia-1.8"
  },
  "language_info": {
   "file_extension": ".jl",
   "mimetype": "application/julia",
   "name": "julia",
   "version": "1.8.3"
  },
  "orig_nbformat": 4
 },
 "nbformat": 4,
 "nbformat_minor": 2
}
