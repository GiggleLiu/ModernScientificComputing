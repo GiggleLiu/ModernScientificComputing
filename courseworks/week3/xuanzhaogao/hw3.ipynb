{
 "cells": [
  {
   "attachments": {},
   "cell_type": "markdown",
   "metadata": {},
   "source": [
    "1. Get the relative condition number of division operation $a/b$.\n",
    "\n",
    "<!-- $$\n",
    "\\frac{||\\delta\\frac{a}{b}||}{||\\frac{a}{b}||} = \\frac{||\\frac{\\delta a}{b} - \\frac{a \\delta b}{b^2}||}{||\\frac{a}{b}||} = ||\\frac{\\delta a}{a} - \\frac{\\delta b}{b}|| \\leq {\\delta \\epsilon}(||\\frac{1}{a}|| + ||\\frac{1}{b}||)\n",
    "$$\n",
    "\n",
    "\n",
    "$$\n",
    "\\kappa(\\frac{a}{b}) = {\\delta \\epsilon}(||\\frac{1}{a}|| + ||\\frac{1}{b}||) / ( {\\delta \\epsilon} / ||a + b||) = \\frac{1}{||ab||}\n",
    "$$ -->\n",
    "\n",
    "assuming that keep $a$ as a constant\n",
    "$$\n",
    "\\kappa  = \\lim_{\\delta \\epsilon \\to 0} \\sup{\\frac{||\\delta f / f||}{||\\delta b / b||}} = 1\n",
    "$$\n",
    "\n",
    "assuming that keep $b$ as a constant\n",
    "$$\n",
    "\\kappa  = \\lim_{\\delta \\epsilon \\to 0} \\sup{\\frac{||\\delta f / f||}{||\\delta a / a||}} = 1\n",
    "$$"
   ]
  },
  {
   "attachments": {},
   "cell_type": "markdown",
   "metadata": {},
   "source": [
    "2. Classify each of the following matrices as well-conditioned or ill-conditioned:\n",
    "```math\n",
    "(a). ~~\\left(\\begin{matrix}10^{10} & 0\\\\ 0 & 10^{-10}\\end{matrix}\\right)\n",
    "```\n",
    "$\\kappa = 10^{20}$, ill-conditioned.\n",
    "\n",
    "```math\n",
    "(b). ~~\\left(\\begin{matrix}10^{10} & 0\\\\ 0 & 10^{10}\\end{matrix}\\right)\n",
    "```\n",
    "$\\kappa = 1$, well-conditioned.\n",
    "\n",
    "```math\n",
    "(c). ~~\\left(\\begin{matrix}10^{-10} & 0\\\\ 0 & 10^{-10}\\end{matrix}\\right)\n",
    "```\n",
    "$\\kappa = 1$, well-conditioned.\n",
    "\n",
    "```math\n",
    "(d). ~~\\left(\\begin{matrix}1 & 2\\\\ 2 & 4\\end{matrix}\\right)\n",
    "```\n",
    "\n",
    "$\\lambda = 0, 5$, ill-conditioned.\n"
   ]
  },
  {
   "cell_type": "code",
   "execution_count": 1,
   "metadata": {},
   "outputs": [
    {
     "data": {
      "text/plain": [
       "2-element Vector{Float64}:\n",
       " 0.0\n",
       " 5.0"
      ]
     },
     "execution_count": 1,
     "metadata": {},
     "output_type": "execute_result"
    }
   ],
   "source": [
    "using LinearAlgebra\n",
    "A = [1 2; 2 4]\n",
    "eigvals(A)"
   ]
  },
  {
   "cell_type": "code",
   "execution_count": 24,
   "metadata": {},
   "outputs": [
    {
     "data": {
      "text/plain": [
       "gauss_jordan (generic function with 1 method)"
      ]
     },
     "execution_count": 24,
     "metadata": {},
     "output_type": "execute_result"
    }
   ],
   "source": [
    "using LinearAlgebra\n",
    "\n",
    "function gauss_jordan(A_in)\n",
    "    A = copy(A_in)\n",
    "    n = size(A,1)\n",
    "    B = Matrix{Float64}(I, n, n)\n",
    "    for i = 1:n #i is for the column\n",
    "        # C = Matrix{Float64}(I, n, n)\n",
    "        for j = 1:n\n",
    "            if j != i\n",
    "                c_ji = A[j, i] / A[i, i]\n",
    "                for k = 1 : i\n",
    "                    B[j, k] -= B[i, k] * c_ji\n",
    "                end \n",
    "                for k = i : n\n",
    "                    A[j, k] -= A[i, k] * c_ji\n",
    "                end\n",
    "            end\n",
    "        end\n",
    "    end\n",
    "\n",
    "    for i = 1:n\n",
    "        for j in 1:n\n",
    "            B[i, j] = B[i, j] / A[i, i]            \n",
    "        end\n",
    "    end\n",
    "    return B\n",
    "end"
   ]
  },
  {
   "cell_type": "code",
   "execution_count": 26,
   "metadata": {},
   "outputs": [
    {
     "data": {
      "text/plain": [
       "3×3 Matrix{Float64}:\n",
       "  1.0   1.0  -1.0\n",
       " -2.0  -1.0   1.5\n",
       "  2.0   0.5  -1.0"
      ]
     },
     "execution_count": 26,
     "metadata": {},
     "output_type": "execute_result"
    }
   ],
   "source": [
    "A_example = [1. 2 2; 4 4 2; 4 6 4]\n",
    "B = gauss_jordan(A_example)"
   ]
  },
  {
   "cell_type": "code",
   "execution_count": 27,
   "metadata": {},
   "outputs": [
    {
     "data": {
      "text/plain": [
       "3×3 Matrix{Float64}:\n",
       " 1.0  0.0  0.0\n",
       " 0.0  1.0  0.0\n",
       " 0.0  0.0  1.0"
      ]
     },
     "execution_count": 27,
     "metadata": {},
     "output_type": "execute_result"
    }
   ],
   "source": [
    "B * Matrix(A_example)"
   ]
  },
  {
   "cell_type": "code",
   "execution_count": 28,
   "metadata": {},
   "outputs": [
    {
     "name": "stdout",
     "output_type": "stream",
     "text": [
      "\u001b[0m\u001b[1mTest Summary: | \u001b[22m\u001b[32m\u001b[1mPass  \u001b[22m\u001b[39m\u001b[36m\u001b[1mTotal  \u001b[22m\u001b[39m\u001b[0m\u001b[1mTime\u001b[22m\n",
      "Gauss Jordan  | \u001b[32m   1  \u001b[39m\u001b[36m    1  \u001b[39m\u001b[0m0.8s\n"
     ]
    },
    {
     "data": {
      "text/plain": [
       "Test.DefaultTestSet(\"Gauss Jordan\", Any[], 1, false, false, true, 1.679147664227071e9, 1.679147665065155e9)"
      ]
     },
     "execution_count": 28,
     "metadata": {},
     "output_type": "execute_result"
    }
   ],
   "source": [
    "using Test\n",
    "@testset \"Gauss Jordan\" begin\n",
    "\tn = 10\n",
    "\tA = randn(n, n)\n",
    "\t@test gauss_jordan(A) * A ≈ Matrix{Float64}(I, n, n)\n",
    "end"
   ]
  },
  {
   "cell_type": "code",
   "execution_count": null,
   "metadata": {},
   "outputs": [],
   "source": []
  }
 ],
 "metadata": {
  "kernelspec": {
   "display_name": "Julia 1.8.2",
   "language": "julia",
   "name": "julia-1.8"
  },
  "language_info": {
   "file_extension": ".jl",
   "mimetype": "application/julia",
   "name": "julia",
   "version": "1.8.2"
  },
  "orig_nbformat": 4
 },
 "nbformat": 4,
 "nbformat_minor": 2
}
