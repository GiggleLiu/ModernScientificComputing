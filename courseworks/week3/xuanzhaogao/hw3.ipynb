{
 "cells": [
  {
   "attachments": {},
   "cell_type": "markdown",
   "metadata": {},
   "source": [
    "1. Get the relative condition number of division operation $a/b$.\n",
    "\n",
    "$$\n",
    "\\frac{||\\delta\\frac{a}{b}||}{||\\frac{a}{b}||} = \\frac{||\\frac{\\delta a}{b} - \\frac{a \\delta b}{b^2}||}{||\\frac{a}{b}||} = ||\\frac{\\delta a}{a} - \\frac{\\delta b}{b}|| \\leq {\\delta \\epsilon}(||\\frac{1}{a}|| + ||\\frac{1}{b}||)\n",
    "$$\n",
    "\n",
    "\n",
    "$$\n",
    "\\kappa(\\frac{a}{b}) = {\\delta \\epsilon}(||\\frac{1}{a}|| + ||\\frac{1}{b}||) / ( {\\delta \\epsilon} / ||a + b||) = \\frac{1}{||ab||}\n",
    "$$"
   ]
  },
  {
   "attachments": {},
   "cell_type": "markdown",
   "metadata": {},
   "source": [
    "2. Classify each of the following matrices as well-conditioned or ill-conditioned:\n",
    "```math\n",
    "(a). ~~\\left(\\begin{matrix}10^{10} & 0\\\\ 0 & 10^{-10}\\end{matrix}\\right)\n",
    "```\n",
    "$\\kappa = 10^{20}$, ill-conditioned.\n",
    "\n",
    "```math\n",
    "(b). ~~\\left(\\begin{matrix}10^{10} & 0\\\\ 0 & 10^{10}\\end{matrix}\\right)\n",
    "```\n",
    "$\\kappa = 1$, well-conditioned.\n",
    "\n",
    "```math\n",
    "(c). ~~\\left(\\begin{matrix}10^{-10} & 0\\\\ 0 & 10^{-10}\\end{matrix}\\right)\n",
    "```\n",
    "$\\kappa = 1$, well-conditioned.\n",
    "\n",
    "```math\n",
    "(d). ~~\\left(\\begin{matrix}1 & 2\\\\ 2 & 4\\end{matrix}\\right)\n",
    "```\n",
    "\n",
    "$\\lambda = 0, 5$, ill-conditioned.\n"
   ]
  },
  {
   "cell_type": "code",
   "execution_count": 2,
   "metadata": {},
   "outputs": [
    {
     "data": {
      "text/plain": [
       "2-element Vector{Float64}:\n",
       " 0.0\n",
       " 5.0"
      ]
     },
     "execution_count": 2,
     "metadata": {},
     "output_type": "execute_result"
    }
   ],
   "source": [
    "using LinearAlgebra\n",
    "A = [1 2; 2 4]\n",
    "eigvals(A)"
   ]
  },
  {
   "cell_type": "code",
   "execution_count": 7,
   "metadata": {},
   "outputs": [
    {
     "data": {
      "text/plain": [
       "gauss_jordan (generic function with 1 method)"
      ]
     },
     "execution_count": 7,
     "metadata": {},
     "output_type": "execute_result"
    }
   ],
   "source": [
    "using LinearAlgebra\n",
    "\n",
    "function gauss_jordan(A)\n",
    "    n = size(A,1)\n",
    "    B = Matrix{Float64}(I, n, n)\n",
    "    for i = 1:n #i is for the column\n",
    "        C = Matrix{Float64}(I, n, n)\n",
    "        for j in 1:n #j is for the row\n",
    "            C[j, i] = - A[j, i] / A[i, i]\n",
    "        end\n",
    "        A = C * A\n",
    "        B = C * B\n",
    "    end\n",
    "    for i = 1:n\n",
    "        C = Matrix{Float64}(I, n, n)\n",
    "        C[i, i] = 1 / A[i, i]\n",
    "        B = C * B\n",
    "    end\n",
    "    return B\n",
    "end"
   ]
  },
  {
   "cell_type": "code",
   "execution_count": 8,
   "metadata": {},
   "outputs": [
    {
     "data": {
      "text/plain": [
       "3×3 Matrix{Float64}:\n",
       "  1.0   1.0  -1.0\n",
       " -2.0  -1.0   1.5\n",
       "  2.0   0.5  -1.0"
      ]
     },
     "execution_count": 8,
     "metadata": {},
     "output_type": "execute_result"
    }
   ],
   "source": [
    "A = [1 2 2; 4 4 2; 4 6 4]\n",
    "gauss_jordan(A)"
   ]
  },
  {
   "cell_type": "code",
   "execution_count": 10,
   "metadata": {},
   "outputs": [
    {
     "name": "stdout",
     "output_type": "stream",
     "text": [
      "\u001b[0m\u001b[1mTest Summary: | \u001b[22m\u001b[32m\u001b[1mPass  \u001b[22m\u001b[39m\u001b[36m\u001b[1mTotal  \u001b[22m\u001b[39m\u001b[0m\u001b[1mTime\u001b[22m\n",
      "Gauss Jordan  | \u001b[32m   1  \u001b[39m\u001b[36m    1  \u001b[39m\u001b[0m0.0s\n"
     ]
    },
    {
     "data": {
      "text/plain": [
       "Test.DefaultTestSet(\"Gauss Jordan\", Any[], 1, false, false, true, 1.678625446283835e9, 1.678625446283923e9)"
      ]
     },
     "execution_count": 10,
     "metadata": {},
     "output_type": "execute_result"
    }
   ],
   "source": [
    "using Test\n",
    "@testset \"Gauss Jordan\" begin\n",
    "\tn = 10\n",
    "\tA = randn(n, n)\n",
    "\t@test gauss_jordan(A) * A ≈ Matrix{Float64}(I, n, n)\n",
    "end"
   ]
  },
  {
   "cell_type": "code",
   "execution_count": null,
   "metadata": {},
   "outputs": [],
   "source": []
  }
 ],
 "metadata": {
  "kernelspec": {
   "display_name": "Julia 1.8.2",
   "language": "julia",
   "name": "julia-1.8"
  },
  "language_info": {
   "file_extension": ".jl",
   "mimetype": "application/julia",
   "name": "julia",
   "version": "1.8.2"
  },
  "orig_nbformat": 4
 },
 "nbformat": 4,
 "nbformat_minor": 2
}
