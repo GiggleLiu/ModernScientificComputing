{
 "cells": [
  {
   "cell_type": "code",
   "execution_count": 1,
   "metadata": {},
   "outputs": [],
   "source": [
    "using LinearAlgebra\n",
    "using Test"
   ]
  },
  {
   "cell_type": "code",
   "execution_count": 2,
   "metadata": {},
   "outputs": [
    {
     "data": {
      "text/plain": [
       "gauss_jordan (generic function with 1 method)"
      ]
     },
     "metadata": {},
     "output_type": "display_data"
    }
   ],
   "source": [
    "function gauss_jordan(A::Matrix{T}) where {T<:Number}\n",
    "    n = size(A, 1)\n",
    "    Idm = Matrix{Float64}(I, n, n) # create the identity matrix\n",
    "    AI = [A Idm] # concatenate A and I\n",
    "    for i in 1:n\n",
    "        pivot = AI[i,i]\n",
    "        if pivot == 0\n",
    "            error(\"Matrix is singular, cannot compute inverse\")\n",
    "        end\n",
    "        for j in 1:n\n",
    "            if i != j\n",
    "                factor = AI[j,i] / pivot\n",
    "                AI[j,:] -= factor * AI[i,:]\n",
    "            end\n",
    "        end\n",
    "        AI[i,:] /= pivot\n",
    "    end\n",
    "    return AI[:, n+1:end]\n",
    "end\n"
   ]
  },
  {
   "cell_type": "code",
   "execution_count": 3,
   "metadata": {},
   "outputs": [
    {
     "name": "stdout",
     "output_type": "stream",
     "text": [
      "\u001b[0m\u001b[1mTest Summary: | \u001b[22m\u001b[32m\u001b[1mPass  \u001b[22m\u001b[39m\u001b[36m\u001b[1mTotal  \u001b[22m\u001b[39m\u001b[0m\u001b[1mTime\u001b[22m\n",
      "Gauss Jordan  | \u001b[32m   1  \u001b[39m\u001b[36m    1  \u001b[39m\u001b[0m1.6s\n"
     ]
    },
    {
     "data": {
      "text/plain": [
       "Test.DefaultTestSet(\"Gauss Jordan\", Any[], 1, false, false, true, 1.678763161609e9, 1.678763163243e9)"
      ]
     },
     "metadata": {},
     "output_type": "display_data"
    }
   ],
   "source": [
    "@testset \"Gauss Jordan\" begin\n",
    "\tn = 10\n",
    "\tA = randn(n, n)\n",
    "\t@test gauss_jordan(A) * A ≈ Matrix{Float64}(I, n, n)\n",
    "end"
   ]
  }
 ],
 "metadata": {
  "kernelspec": {
   "display_name": "Julia 1.8.2",
   "language": "julia",
   "name": "julia-1.8"
  },
  "language_info": {
   "file_extension": ".jl",
   "mimetype": "application/julia",
   "name": "julia",
   "version": "1.8.2"
  },
  "orig_nbformat": 4
 },
 "nbformat": 4,
 "nbformat_minor": 2
}
