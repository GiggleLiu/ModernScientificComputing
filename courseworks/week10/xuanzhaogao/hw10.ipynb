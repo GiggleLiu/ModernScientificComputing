{
 "cells": [
  {
   "cell_type": "code",
   "execution_count": 2,
   "metadata": {},
   "outputs": [],
   "source": [
    "using LinearAlgebra"
   ]
  },
  {
   "attachments": {},
   "cell_type": "markdown",
   "metadata": {},
   "source": [
    "# Task 1\n",
    "\n",
    "Given $A\\in \\mathbb{R}^{n\\times n}$ and $x, b\\in \\mathbb{R}^n$ Please derive the backward rule of $\\mathcal{L} = \\|Ax - b\\|_2$ either using the chain rules or the perturbative approach (from the last lecture)."
   ]
  },
  {
   "attachments": {},
   "cell_type": "markdown",
   "metadata": {},
   "source": [
    "$$\n",
    "\\begin{split}\n",
    "    \\frac{\\partial \\mathcal{L}}{\\partial x} \n",
    "    & = \\frac{\\partial \\mathcal{L}}{\\partial ||Ax - b||_2} \\frac{\\partial \\sqrt{(Ax - b)^T (Ax - b)}}{\\partial (Ax - b)} \\frac{\\partial (Ax - b)}{\\partial x} \\\\\n",
    "    & = 1 \\times \\frac{1}{2 ||Ax - b||_2} \\times 2(Ax - b)^T \\times A\\\\\n",
    "    & = \\frac{(Ax - b)^T \\times A}{||Ax - b||_2}\n",
    "\\end{split}\n",
    "$$"
   ]
  },
  {
   "attachments": {},
   "cell_type": "markdown",
   "metadata": {},
   "source": [
    "# Task 2.1\n",
    "Text compression\n",
    "Given a text to be compressed:\n",
    "\n",
    "Compressed sensing (also known as compressive sensing, compressive sampling, or sparse sampling) is a signal processing technique for efficiently acquiring and reconstructing a signal, by finding solutions to underdetermined linear systems. This is based on the principle that, through optimization, the sparsity of a signal can be exploited to recover it from far fewer samples than required by the Nyquist–Shannon sampling theorem. There are two conditions under which recovery is possible. The first one is sparsity, which requires the signal to be sparse in some domain. The second one is incoherence, which is applied through the isometric property, which is sufficient for sparse signals.\n",
    "\n",
    "Please\n",
    "1. Analyse the frequency of each char\n",
    "2. Create an optimal Huffman coding for each char\n",
    "3. Encode the text and count the length of total coding (not including the deliminators)."
   ]
  },
  {
   "cell_type": "code",
   "execution_count": 16,
   "metadata": {},
   "outputs": [
    {
     "data": {
      "text/plain": [
       "\"Compressed sensing (also known as compressive sensing, compressive sampling, or sparse sampling) is a signal processing technique for efficiently acquiring and reconstructing a signal, by finding solutions to underdetermined linear systems. This is based on the principle\" ⋯ 155 bytes ⋯ \" theorem. There are two conditions under which recovery is possible. The first one is sparsity, which requires the signal to be sparse in some domain. The second one is incoherence, which is applied through the isometric property, which is sufficient for sparse signals.\""
      ]
     },
     "metadata": {},
     "output_type": "display_data"
    }
   ],
   "source": [
    "text = \"Compressed sensing (also known as compressive sensing, compressive sampling, or sparse sampling) is a signal processing technique for efficiently acquiring and reconstructing a signal, by finding solutions to underdetermined linear systems. This is based on the principle that, through optimization, the sparsity of a signal can be exploited to recover it from far fewer samples than required by the Nyquist–Shannon sampling theorem. There are two conditions under which recovery is possible. The first one is sparsity, which requires the signal to be sparse in some domain. The second one is incoherence, which is applied through the isometric property, which is sufficient for sparse signals.\""
   ]
  },
  {
   "cell_type": "code",
   "execution_count": 3,
   "metadata": {},
   "outputs": [
    {
     "data": {
      "text/plain": [
       "694"
      ]
     },
     "metadata": {},
     "output_type": "display_data"
    }
   ],
   "source": [
    "total_length = length(text)"
   ]
  },
  {
   "cell_type": "code",
   "execution_count": 4,
   "metadata": {},
   "outputs": [],
   "source": [
    "frequency_count = Dict{Char, Int}()\n",
    "for c in text\n",
    "    if haskey(frequency_count, c)\n",
    "        frequency_count[c] += 1\n",
    "    else\n",
    "        push!(frequency_count, c => 1)\n",
    "    end    \n",
    "end"
   ]
  },
  {
   "cell_type": "code",
   "execution_count": 10,
   "metadata": {},
   "outputs": [],
   "source": [
    "symbols = \"\"\n",
    "probs = Float64[]\n",
    "for symbol in keys(frequency_count)\n",
    "    symbols *= symbol\n",
    "    push!(probs, frequency_count[symbol] / total_length)\n",
    "end"
   ]
  },
  {
   "cell_type": "code",
   "execution_count": 11,
   "metadata": {},
   "outputs": [
    {
     "data": {
      "text/plain": [
       "huffman_tree (generic function with 1 method)"
      ]
     },
     "metadata": {},
     "output_type": "display_data"
    }
   ],
   "source": [
    "struct Node{VT, PT}\n",
    "    value::Union{VT,Nothing}\n",
    "\tprob::PT\n",
    "    left::Union{Node{VT,PT}, Nothing}\n",
    "    right::Union{Node{VT,PT}, Nothing}\n",
    "end\n",
    "\n",
    "using DataStructures\n",
    "\n",
    "function huffman_tree(symbols, probs)\n",
    "\tisempty(symbols) && error(\"empty input!\")\n",
    "\t# priority queue can keep the items ordered with log(# of items) effort.\n",
    "\tnodes = PriorityQueue(Base.Order.Forward,\n",
    "\t\t[Node(c, f, nothing, nothing)=>f for (c, f) in zip(symbols, probs)])\n",
    "    while length(nodes) > 1\n",
    "        left = dequeue!(nodes)\n",
    "        right = dequeue!(nodes)\n",
    "        parent = Node(nothing, left.prob + right.prob, left, right)\n",
    "        enqueue!(nodes, parent=>left.prob + right.prob)\n",
    "    end\n",
    "\treturn dequeue!(nodes)\n",
    "end"
   ]
  },
  {
   "cell_type": "code",
   "execution_count": 12,
   "metadata": {},
   "outputs": [
    {
     "data": {
      "text/plain": [
       "Node{Char, Float64}(nothing, 1.0, Node{Char, Float64}(nothing, 0.40057636887608067, Node{Char, Float64}(nothing, 0.18587896253602304, Node{Char, Float64}(nothing, 0.09221902017291066, Node{Char, Float64}('a', 0.04610951008645533, nothing, nothing), Node{Char, Float64}(nothing, 0.04610951008645533, Node{Char, Float64}(nothing, 0.023054755043227664, Node{Char, Float64}(nothing, 0.011527377521613832, Node{Char, Float64}('v', 0.005763688760806916, nothing, nothing), Node{Char, Float64}(nothing, 0.005763688760806916, Node{Char, Float64}(nothing, 0.002881844380403458, Node{Char, Float64}('–', 0.001440922190201729, nothing, nothing), Node{Char, Float64}('C', 0.001440922190201729, nothing, nothing)), Node{Char, Float64}(nothing, 0.002881844380403458, Node{Char, Float64}('(', 0.001440922190201729, nothing, nothing), Node{Char, Float64}('S', 0.001440922190201729, nothing, nothing)))), Node{Char, Float64}(',', 0.011527377521613832, nothing, nothing)), Node{Char, Float64}('g', 0.023054755043227664, nothing, nothing))), Node{Char, Float64}('e', 0.0936599423631124, nothing, nothing)), Node{Char, Float64}(nothing, 0.21469740634005763, Node{Char, Float64}(nothing, 0.0994236311239193, Node{Char, Float64}('t', 0.04899135446685879, nothing, nothing), Node{Char, Float64}(nothing, 0.050432276657060515, Node{Char, Float64}('l', 0.024495677233429394, nothing, nothing), Node{Char, Float64}(nothing, 0.02593659942363112, Node{Char, Float64}(nothing, 0.01296829971181556, Node{Char, Float64}('T', 0.005763688760806916, nothing, nothing), Node{Char, Float64}('.', 0.007204610951008645, nothing, nothing)), Node{Char, Float64}('y', 0.012968299711815562, nothing, nothing)))), Node{Char, Float64}(nothing, 0.11527377521613832, Node{Char, Float64}('o', 0.056195965417867436, nothing, nothing), Node{Char, Float64}('r', 0.059077809798270896, nothing, nothing)))), Node{Char, Float64}(nothing, 0.5994236311239193, Node{Char, Float64}(nothing, 0.2780979827089337, Node{Char, Float64}(nothing, 0.12968299711815562, Node{Char, Float64}(nothing, 0.06340057636887608, Node{Char, Float64}(nothing, 0.03170028818443804, Node{Char, Float64}(nothing, 0.01440922190201729, Node{Char, Float64}(nothing, 0.007204610951008645, Node{Char, Float64}(nothing, 0.002881844380403458, Node{Char, Float64}('z', 0.001440922190201729, nothing, nothing), Node{Char, Float64}('N', 0.001440922190201729, nothing, nothing)), Node{Char, Float64}(nothing, 0.004322766570605187, Node{Char, Float64}('x', 0.001440922190201729, nothing, nothing), Node{Char, Float64}(nothing, 0.002881844380403458, Node{Char, Float64}(')', 0.001440922190201729, nothing, nothing), Node{Char, Float64}('k', 0.001440922190201729, nothing, nothing)))), Node{Char, Float64}('q', 0.007204610951008645, nothing, nothing)), Node{Char, Float64}('u', 0.01729106628242075, nothing, nothing)), Node{Char, Float64}('c', 0.03170028818443804, nothing, nothing)), Node{Char, Float64}('n', 0.06628242074927954, nothing, nothing)), Node{Char, Float64}(' ', 0.1484149855907781, nothing, nothing)), Node{Char, Float64}(nothing, 0.32132564841498557, Node{Char, Float64}(nothing, 0.1484149855907781, Node{Char, Float64}(nothing, 0.06772334293948128, Node{Char, Float64}('p', 0.03170028818443804, nothing, nothing), Node{Char, Float64}(nothing, 0.036023054755043235, Node{Char, Float64}('f', 0.01729106628242075, nothing, nothing), Node{Char, Float64}(nothing, 0.01873198847262248, Node{Char, Float64}('b', 0.008645533141210375, nothing, nothing), Node{Char, Float64}('w', 0.010086455331412104, nothing, nothing)))), Node{Char, Float64}(nothing, 0.08069164265129683, Node{Char, Float64}('h', 0.03890489913544669, nothing, nothing), Node{Char, Float64}(nothing, 0.04178674351585014, Node{Char, Float64}('d', 0.020172910662824207, nothing, nothing), Node{Char, Float64}('m', 0.021613832853025938, nothing, nothing)))), Node{Char, Float64}(nothing, 0.1729106628242075, Node{Char, Float64}('i', 0.08645533141210375, nothing, nothing), Node{Char, Float64}('s', 0.08645533141210375, nothing, nothing)))))"
      ]
     },
     "metadata": {},
     "output_type": "display_data"
    }
   ],
   "source": [
    "ht = huffman_tree(symbols, probs)"
   ]
  },
  {
   "cell_type": "code",
   "execution_count": 13,
   "metadata": {},
   "outputs": [
    {
     "data": {
      "text/plain": [
       "decent! (generic function with 3 methods)"
      ]
     },
     "metadata": {},
     "output_type": "display_data"
    }
   ],
   "source": [
    "function decent!(tree::Node{VT}, prefix::String=\"\", d::Dict = Dict{VT,String}()) where VT\n",
    "\tif tree.left === nothing # leaft\n",
    "\t\td[tree.value] = prefix\n",
    "\telse   # non-leaf\n",
    "\t\tdecent!(tree.left, prefix*\"0\", d)\n",
    "\t\tdecent!(tree.right, prefix*\"1\", d)\n",
    "\tend\n",
    "\treturn d\n",
    "end"
   ]
  },
  {
   "cell_type": "code",
   "execution_count": 14,
   "metadata": {},
   "outputs": [
    {
     "data": {
      "text/plain": [
       "Dict{Char, String} with 35 entries:\n",
       "  'n' => \"1001\"\n",
       "  'f' => \"110010\"\n",
       "  'w' => \"1100111\"\n",
       "  'd' => \"110110\"\n",
       "  'e' => \"001\"\n",
       "  'o' => \"0110\"\n",
       "  ')' => \"1000000110\"\n",
       "  'C' => \"000100101\"\n",
       "  '–' => \"000100100\"\n",
       "  'h' => \"11010\"\n",
       "  '(' => \"000100110\"\n",
       "  'y' => \"010111\"\n",
       "  't' => \"0100\"\n",
       "  ',' => \"000101\"\n",
       "  'r' => \"0111\"\n",
       "  'k' => \"1000000111\"\n",
       "  'q' => \"1000001\"\n",
       "  'N' => \"100000001\"\n",
       "  ' ' => \"101\"\n",
       "  ⋮   => ⋮"
      ]
     },
     "metadata": {},
     "output_type": "display_data"
    }
   ],
   "source": [
    "ht_code = decent!(ht)"
   ]
  },
  {
   "cell_type": "code",
   "execution_count": 15,
   "metadata": {},
   "outputs": [
    {
     "name": "stdout",
     "output_type": "stream",
     "text": [
      "the total length of the coded text is 2992, and the mean code length is 4.311239193083574.\n"
     ]
    }
   ],
   "source": [
    "code_length = 0\n",
    "\n",
    "for ht_key in keys(ht_code)\n",
    "    frequency = frequency_count[ht_key]\n",
    "    length_ht = length(ht_code[ht_key])\n",
    "    code_length += frequency * length_ht\n",
    "end\n",
    "println(\"the total length of the coded text is \", code_length, \", and the mean code length is \", code_length / total_length, \".\")"
   ]
  },
  {
   "attachments": {},
   "cell_type": "markdown",
   "metadata": {},
   "source": [
    "# Task 2.2 Compressed Sensing\n",
    "\n",
    "Go through the video clip [Compressed Sensing: When It Works](https://youtu.be/hmBTACBGWJs)\n",
    "\n",
    "Please summarize this video clip, and explain when does compressed sensing work and when not."
   ]
  },
  {
   "attachments": {},
   "cell_type": "markdown",
   "metadata": {},
   "source": [
    "The video introduced the mathematical formula of compressed sensing method and discussed when do it work.\n",
    "\n",
    "The relation of the original singal $x$ and its corresponding in Fourier space $s$ can be given as\n",
    "$$\n",
    "x = \\Psi s\n",
    "$$\n",
    "where $\\Psi$ is the Fourier basis and we assume that $s$ is sparse.\n",
    "Then compressed sensing can be regarded as solving the equation given by\n",
    "$$\n",
    "y = C \\Psi s\n",
    "$$\n",
    "where $y$ is a reduced order measurement of the original signal and $C$ is a random matrix representing the measurement.\n",
    "Beacuse of the requirement that $s$ is sparse, we have to minimize L1 norm of $s$."
   ]
  },
  {
   "attachments": {},
   "cell_type": "markdown",
   "metadata": {},
   "source": [
    "There are two requirements for the method to work, which are directly shown by the formula given above.\n",
    "\n",
    "First, the measurement $C$ have to be **random** and incoherent with the basis $Psi$, or we will only get information about limited frequency corresponding to only part of $s$.\n",
    "\n",
    "Second, size of $y$ can not be too small, if there are K non-zero elements in $s$, then length of $y$ should be given by\n",
    "$$\n",
    "O(K \\log{(n / K)})\\;,\n",
    "$$\n",
    "where $n$ is length of $s$."
   ]
  }
 ],
 "metadata": {
  "kernelspec": {
   "display_name": "Julia 1.8.2",
   "language": "julia",
   "name": "julia-1.8"
  },
  "language_info": {
   "file_extension": ".jl",
   "mimetype": "application/julia",
   "name": "julia",
   "version": "1.8.2"
  },
  "orig_nbformat": 4
 },
 "nbformat": 4,
 "nbformat_minor": 2
}
