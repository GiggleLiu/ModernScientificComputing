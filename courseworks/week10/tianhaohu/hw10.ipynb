{
 "cells": [
  {
   "cell_type": "code",
   "execution_count": 1,
   "metadata": {},
   "outputs": [],
   "source": [
    "using LinearAlgebra\n",
    "using OMEinsum\n",
    "using  Test"
   ]
  },
  {
   "cell_type": "code",
   "execution_count": 2,
   "metadata": {},
   "outputs": [
    {
     "data": {
      "text/plain": [
       "abc, cde, efg, ghi, ijk, klm, mno, pbq, qdr, rfs, sht, tju, ulv, vnw -> apow"
      ]
     },
     "metadata": {},
     "output_type": "display_data"
    }
   ],
   "source": [
    "eincode = ein\"abc,cde,efg,ghi,ijk,klm,mno,pbq,qdr,rfs,sht,tju,ulv,vnw->apow\""
   ]
  },
  {
   "cell_type": "code",
   "execution_count": 3,
   "metadata": {},
   "outputs": [
    {
     "data": {
      "text/plain": [
       "SlicedEinsum{Char, DynamicNestedEinsum{Char}}(Char[], acpq, cqow -> apow\n",
       "├─ abc, pbq -> acpq\n",
       "│  ├─ abc\n",
       "│  └─ pbq\n",
       "└─ mvcq, movw -> cqow\n",
       "   ├─ mvsg, gcqs -> mvcq\n",
       "   │  ├─ imvt, stgi -> mvsg\n",
       "   │  │  ├─ ijlm, lvtj -> imvt\n",
       "   │  │  │  ├─ ijk, klm -> ijlm\n",
       "   │  │  │  │  ⋮\n",
       "   │  │  │  │  \n",
       "   │  │  │  └─ ulv, tju -> lvtj\n",
       "   │  │  │     ⋮\n",
       "   │  │  │     \n",
       "   │  │  └─ sht, ghi -> stgi\n",
       "   │  │     ├─ sht\n",
       "   │  │     └─ ghi\n",
       "   │  └─ fgcd, qdfs -> gcqs\n",
       "   │     ├─ efg, cde -> fgcd\n",
       "   │     │  ├─ efg\n",
       "   │     │  └─ cde\n",
       "   │     └─ qdr, rfs -> qdfs\n",
       "   │        ├─ qdr\n",
       "   │        └─ rfs\n",
       "   └─ mno, vnw -> movw\n",
       "      ├─ mno\n",
       "      └─ vnw\n",
       ")"
      ]
     },
     "metadata": {},
     "output_type": "display_data"
    }
   ],
   "source": [
    "optimized_eincode = optimize_code(eincode,uniformsize(eincode,2),TreeSA())"
   ]
  },
  {
   "attachments": {},
   "cell_type": "markdown",
   "metadata": {},
   "source": [
    "I compare the results when n = 2 and 3"
   ]
  },
  {
   "cell_type": "code",
   "execution_count": 14,
   "metadata": {},
   "outputs": [
    {
     "data": {
      "text/plain": [
       "Time complexity (number of element-wise multiplications) = 2^9.247927513443585\n",
       "Space complexity (number of elements in the largest intermediate tensor) = 2^4.0\n",
       "Read-write complexity (number of element-wise read and write) = 2^9.0"
      ]
     },
     "metadata": {},
     "output_type": "display_data"
    }
   ],
   "source": [
    "contraction_complexity(optimized_eincode, uniformsize(optimized_eincode, 2))"
   ]
  },
  {
   "cell_type": "code",
   "execution_count": 16,
   "metadata": {},
   "outputs": [
    {
     "name": "stdout",
     "output_type": "stream",
     "text": [
      "\u001b[0m\u001b[1mTest Summary:            | \u001b[22m\u001b[32m\u001b[1mPass  \u001b[22m\u001b[39m\u001b[36m\u001b[1mTotal  \u001b[22m\u001b[39m\u001b[0m\u001b[1mTime\u001b[22m\n",
      " complexity comparasion  | \u001b[32m   1  \u001b[39m\u001b[36m    1  \u001b[39m\u001b[0m0.0s\n"
     ]
    },
    {
     "data": {
      "text/plain": [
       "Test.DefaultTestSet(\" complexity comparasion \", Any[], 1, false, false, true, 1.683535907496125e9, 1.683535907496235e9, false)"
      ]
     },
     "metadata": {},
     "output_type": "display_data"
    }
   ],
   "source": [
    "@testset \" complexity comparasion \" begin\n",
    "    n=2\n",
    "    @test 2^9.247927513443585 ≈ 7*n^5 + 6*n^6\n",
    "end "
   ]
  },
  {
   "cell_type": "code",
   "execution_count": 17,
   "metadata": {},
   "outputs": [
    {
     "data": {
      "text/plain": [
       "Time complexity (number of element-wise multiplications) = 2^12.568668693380506\n",
       "Space complexity (number of elements in the largest intermediate tensor) = 2^6.339850002884624\n",
       "Read-write complexity (number of element-wise read and write) = 2^11.230620933129867"
      ]
     },
     "metadata": {},
     "output_type": "display_data"
    }
   ],
   "source": [
    "contraction_complexity(optimized_eincode, uniformsize(optimized_eincode, 3))"
   ]
  },
  {
   "cell_type": "code",
   "execution_count": 18,
   "metadata": {},
   "outputs": [
    {
     "name": "stdout",
     "output_type": "stream",
     "text": [
      "\u001b[0m\u001b[1mTest Summary:            | \u001b[22m\u001b[32m\u001b[1mPass  \u001b[22m\u001b[39m\u001b[36m\u001b[1mTotal  \u001b[22m\u001b[39m\u001b[0m\u001b[1mTime\u001b[22m\n",
      " complexity comparasion  | \u001b[32m   1  \u001b[39m\u001b[36m    1  \u001b[39m\u001b[0m0.0s\n"
     ]
    },
    {
     "data": {
      "text/plain": [
       "Test.DefaultTestSet(\" complexity comparasion \", Any[], 1, false, false, true, 1.683535967154984e9, 1.683535967155056e9, false)"
      ]
     },
     "metadata": {},
     "output_type": "display_data"
    }
   ],
   "source": [
    "@testset \" complexity comparasion \" begin\n",
    "    n=3\n",
    "    @test 2^12.568668693380506 ≈ 7*n^5 + 6*n^6\n",
    "end "
   ]
  }
 ],
 "metadata": {
  "kernelspec": {
   "display_name": "Julia 1.9.0-rc1",
   "language": "julia",
   "name": "julia-1.9"
  },
  "language_info": {
   "file_extension": ".jl",
   "mimetype": "application/julia",
   "name": "julia",
   "version": "1.9.0-rc1"
  },
  "orig_nbformat": 4
 },
 "nbformat": 4,
 "nbformat_minor": 2
}
